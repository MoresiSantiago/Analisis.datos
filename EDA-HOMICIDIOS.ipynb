{
 "cells": [
  {
   "cell_type": "markdown",
   "metadata": {},
   "source": [
    "                           ANALISIS EXPLORATORIO DE LOS DATOS"
   ]
  },
  {
   "cell_type": "markdown",
   "metadata": {},
   "source": [
    "--> Librerias a usar."
   ]
  },
  {
   "cell_type": "code",
   "execution_count": 36,
   "metadata": {},
   "outputs": [],
   "source": [
    "import pandas as pd\n",
    "import numpy as np\n",
    "import matplotlib.pyplot as plt"
   ]
  },
  {
   "cell_type": "markdown",
   "metadata": {},
   "source": [
    "Ver el archivo"
   ]
  },
  {
   "cell_type": "code",
   "execution_count": 37,
   "metadata": {},
   "outputs": [],
   "source": [
    "df_homicidos= pd.read_excel('homicidios (1).xlsx')"
   ]
  },
  {
   "cell_type": "code",
   "execution_count": 18,
   "metadata": {},
   "outputs": [
    {
     "data": {
      "text/html": [
       "<div>\n",
       "<style scoped>\n",
       "    .dataframe tbody tr th:only-of-type {\n",
       "        vertical-align: middle;\n",
       "    }\n",
       "\n",
       "    .dataframe tbody tr th {\n",
       "        vertical-align: top;\n",
       "    }\n",
       "\n",
       "    .dataframe thead th {\n",
       "        text-align: right;\n",
       "    }\n",
       "</style>\n",
       "<table border=\"1\" class=\"dataframe\">\n",
       "  <thead>\n",
       "    <tr style=\"text-align: right;\">\n",
       "      <th></th>\n",
       "      <th>ID</th>\n",
       "      <th>N_VICTIMAS</th>\n",
       "      <th>FECHA</th>\n",
       "      <th>AAAA</th>\n",
       "      <th>MM</th>\n",
       "      <th>DD</th>\n",
       "      <th>HORA</th>\n",
       "      <th>HH</th>\n",
       "      <th>LUGAR_DEL_HECHO</th>\n",
       "      <th>TIPO_DE_CALLE</th>\n",
       "      <th>...</th>\n",
       "      <th>Altura</th>\n",
       "      <th>Cruce</th>\n",
       "      <th>Dirección Normalizada</th>\n",
       "      <th>COMUNA</th>\n",
       "      <th>XY (CABA)</th>\n",
       "      <th>pos x</th>\n",
       "      <th>pos y</th>\n",
       "      <th>PARTICIPANTES</th>\n",
       "      <th>VICTIMA</th>\n",
       "      <th>ACUSADO</th>\n",
       "    </tr>\n",
       "  </thead>\n",
       "  <tbody>\n",
       "    <tr>\n",
       "      <th>0</th>\n",
       "      <td>2016-0001</td>\n",
       "      <td>1</td>\n",
       "      <td>2016-01-01</td>\n",
       "      <td>2016</td>\n",
       "      <td>1</td>\n",
       "      <td>1</td>\n",
       "      <td>04:00:00</td>\n",
       "      <td>4</td>\n",
       "      <td>AV PIEDRA BUENA Y AV FERNANDEZ DE LA CRUZ</td>\n",
       "      <td>AVENIDA</td>\n",
       "      <td>...</td>\n",
       "      <td>NaN</td>\n",
       "      <td>FERNANDEZ DE LA CRUZ, F., GRAL. AV.</td>\n",
       "      <td>PIEDRA BUENA AV. y FERNANDEZ DE LA CRUZ, F., G...</td>\n",
       "      <td>8</td>\n",
       "      <td>Point (98896.78238426 93532.43437792)</td>\n",
       "      <td>-58.47533969</td>\n",
       "      <td>-34.68757022</td>\n",
       "      <td>MOTO-AUTO</td>\n",
       "      <td>MOTO</td>\n",
       "      <td>AUTO</td>\n",
       "    </tr>\n",
       "    <tr>\n",
       "      <th>1</th>\n",
       "      <td>2016-0002</td>\n",
       "      <td>1</td>\n",
       "      <td>2016-01-02</td>\n",
       "      <td>2016</td>\n",
       "      <td>1</td>\n",
       "      <td>2</td>\n",
       "      <td>01:15:00</td>\n",
       "      <td>1</td>\n",
       "      <td>AV GRAL PAZ  Y AV DE LOS CORRALES</td>\n",
       "      <td>GRAL PAZ</td>\n",
       "      <td>...</td>\n",
       "      <td>NaN</td>\n",
       "      <td>DE LOS CORRALES AV.</td>\n",
       "      <td>PAZ, GRAL. AV. y DE LOS CORRALES AV.</td>\n",
       "      <td>9</td>\n",
       "      <td>Point (95832.05571093 95505.41641999)</td>\n",
       "      <td>-58.50877521</td>\n",
       "      <td>-34.66977709</td>\n",
       "      <td>AUTO-PASAJEROS</td>\n",
       "      <td>AUTO</td>\n",
       "      <td>PASAJEROS</td>\n",
       "    </tr>\n",
       "    <tr>\n",
       "      <th>2</th>\n",
       "      <td>2016-0003</td>\n",
       "      <td>1</td>\n",
       "      <td>2016-01-03</td>\n",
       "      <td>2016</td>\n",
       "      <td>1</td>\n",
       "      <td>3</td>\n",
       "      <td>07:00:00</td>\n",
       "      <td>7</td>\n",
       "      <td>AV ENTRE RIOS 2034</td>\n",
       "      <td>AVENIDA</td>\n",
       "      <td>...</td>\n",
       "      <td>2034.0</td>\n",
       "      <td>NaN</td>\n",
       "      <td>ENTRE RIOS AV. 2034</td>\n",
       "      <td>1</td>\n",
       "      <td>Point (106684.29090040 99706.57687843)</td>\n",
       "      <td>-58.39040293</td>\n",
       "      <td>-34.63189362</td>\n",
       "      <td>MOTO-AUTO</td>\n",
       "      <td>MOTO</td>\n",
       "      <td>AUTO</td>\n",
       "    </tr>\n",
       "    <tr>\n",
       "      <th>3</th>\n",
       "      <td>2016-0004</td>\n",
       "      <td>1</td>\n",
       "      <td>2016-01-10</td>\n",
       "      <td>2016</td>\n",
       "      <td>1</td>\n",
       "      <td>10</td>\n",
       "      <td>00:00:00</td>\n",
       "      <td>0</td>\n",
       "      <td>AV LARRAZABAL Y GRAL VILLEGAS CONRADO</td>\n",
       "      <td>AVENIDA</td>\n",
       "      <td>...</td>\n",
       "      <td>NaN</td>\n",
       "      <td>VILLEGAS, CONRADO, GRAL.</td>\n",
       "      <td>LARRAZABAL AV. y VILLEGAS, CONRADO, GRAL.</td>\n",
       "      <td>8</td>\n",
       "      <td>Point (99840.65224780 94269.16534422)</td>\n",
       "      <td>-58.46503904</td>\n",
       "      <td>-34.68092974</td>\n",
       "      <td>MOTO-SD</td>\n",
       "      <td>MOTO</td>\n",
       "      <td>SD</td>\n",
       "    </tr>\n",
       "    <tr>\n",
       "      <th>4</th>\n",
       "      <td>2016-0005</td>\n",
       "      <td>1</td>\n",
       "      <td>2016-01-21</td>\n",
       "      <td>2016</td>\n",
       "      <td>1</td>\n",
       "      <td>21</td>\n",
       "      <td>05:20:00</td>\n",
       "      <td>5</td>\n",
       "      <td>AV SAN JUAN Y PRESIDENTE LUIS SAENZ PEÑA</td>\n",
       "      <td>AVENIDA</td>\n",
       "      <td>...</td>\n",
       "      <td>NaN</td>\n",
       "      <td>SAENZ PE?A, LUIS, PRES.</td>\n",
       "      <td>SAN JUAN AV. y SAENZ PEÃ‘A, LUIS, PRES.</td>\n",
       "      <td>1</td>\n",
       "      <td>Point (106980.32827929 100752.16915795)</td>\n",
       "      <td>-58.38718297</td>\n",
       "      <td>-34.62246630</td>\n",
       "      <td>MOTO-PASAJEROS</td>\n",
       "      <td>MOTO</td>\n",
       "      <td>PASAJEROS</td>\n",
       "    </tr>\n",
       "    <tr>\n",
       "      <th>...</th>\n",
       "      <td>...</td>\n",
       "      <td>...</td>\n",
       "      <td>...</td>\n",
       "      <td>...</td>\n",
       "      <td>...</td>\n",
       "      <td>...</td>\n",
       "      <td>...</td>\n",
       "      <td>...</td>\n",
       "      <td>...</td>\n",
       "      <td>...</td>\n",
       "      <td>...</td>\n",
       "      <td>...</td>\n",
       "      <td>...</td>\n",
       "      <td>...</td>\n",
       "      <td>...</td>\n",
       "      <td>...</td>\n",
       "      <td>...</td>\n",
       "      <td>...</td>\n",
       "      <td>...</td>\n",
       "      <td>...</td>\n",
       "      <td>...</td>\n",
       "    </tr>\n",
       "    <tr>\n",
       "      <th>691</th>\n",
       "      <td>2021-0093</td>\n",
       "      <td>1</td>\n",
       "      <td>2021-12-13</td>\n",
       "      <td>2021</td>\n",
       "      <td>12</td>\n",
       "      <td>13</td>\n",
       "      <td>17:10:00</td>\n",
       "      <td>17</td>\n",
       "      <td>AV. RIESTRA Y MOM</td>\n",
       "      <td>AVENIDA</td>\n",
       "      <td>...</td>\n",
       "      <td>NaN</td>\n",
       "      <td>MOM</td>\n",
       "      <td>RIESTRA AV. y MOM</td>\n",
       "      <td>7</td>\n",
       "      <td>Point (102728.60090138 98186.24929177)</td>\n",
       "      <td>-58.43353773</td>\n",
       "      <td>-34.64561636</td>\n",
       "      <td>MOTO-AUTO</td>\n",
       "      <td>MOTO</td>\n",
       "      <td>AUTO</td>\n",
       "    </tr>\n",
       "    <tr>\n",
       "      <th>692</th>\n",
       "      <td>2021-0094</td>\n",
       "      <td>1</td>\n",
       "      <td>2021-12-20</td>\n",
       "      <td>2021</td>\n",
       "      <td>12</td>\n",
       "      <td>20</td>\n",
       "      <td>01:10:00</td>\n",
       "      <td>1</td>\n",
       "      <td>AU DELLEPIANE Y LACARRA</td>\n",
       "      <td>AUTOPISTA</td>\n",
       "      <td>...</td>\n",
       "      <td>NaN</td>\n",
       "      <td>LACARRA AV.</td>\n",
       "      <td>DELLEPIANE, LUIS, TTE. GRAL. y LACARRA AV.</td>\n",
       "      <td>9</td>\n",
       "      <td>Point (99624.29795829 97569.69801131)</td>\n",
       "      <td>-58.46739825</td>\n",
       "      <td>-34.65117757</td>\n",
       "      <td>MOTO-AUTO</td>\n",
       "      <td>MOTO</td>\n",
       "      <td>AUTO</td>\n",
       "    </tr>\n",
       "    <tr>\n",
       "      <th>693</th>\n",
       "      <td>2021-0095</td>\n",
       "      <td>1</td>\n",
       "      <td>2021-12-30</td>\n",
       "      <td>2021</td>\n",
       "      <td>12</td>\n",
       "      <td>30</td>\n",
       "      <td>00:43:00</td>\n",
       "      <td>0</td>\n",
       "      <td>AV. GAONA Y TERRADA</td>\n",
       "      <td>AVENIDA</td>\n",
       "      <td>...</td>\n",
       "      <td>NaN</td>\n",
       "      <td>TERRADA</td>\n",
       "      <td>GAONA AV. y TERRADA</td>\n",
       "      <td>11</td>\n",
       "      <td>Point (99116.45492358 101045.23284826)</td>\n",
       "      <td>-58.47293407</td>\n",
       "      <td>-34.61984745</td>\n",
       "      <td>MOTO-CARGAS</td>\n",
       "      <td>MOTO</td>\n",
       "      <td>CARGAS</td>\n",
       "    </tr>\n",
       "    <tr>\n",
       "      <th>694</th>\n",
       "      <td>2021-0096</td>\n",
       "      <td>1</td>\n",
       "      <td>2021-12-15</td>\n",
       "      <td>2021</td>\n",
       "      <td>12</td>\n",
       "      <td>15</td>\n",
       "      <td>10:30:00</td>\n",
       "      <td>10</td>\n",
       "      <td>AV. EVA PERON 4071</td>\n",
       "      <td>AVENIDA</td>\n",
       "      <td>...</td>\n",
       "      <td>4071.0</td>\n",
       "      <td>NaN</td>\n",
       "      <td>PERON, EVA AV. 4071</td>\n",
       "      <td>9</td>\n",
       "      <td>Point (99324.54463985 97676.26932409)</td>\n",
       "      <td>-58.47066794</td>\n",
       "      <td>-34.65021673</td>\n",
       "      <td>AUTO-CARGAS</td>\n",
       "      <td>AUTO</td>\n",
       "      <td>CARGAS</td>\n",
       "    </tr>\n",
       "    <tr>\n",
       "      <th>695</th>\n",
       "      <td>2021-0097</td>\n",
       "      <td>1</td>\n",
       "      <td>2021-11-18</td>\n",
       "      <td>2021</td>\n",
       "      <td>11</td>\n",
       "      <td>18</td>\n",
       "      <td>06:10:00</td>\n",
       "      <td>6</td>\n",
       "      <td>PADRE CARLOS MUJICA 709</td>\n",
       "      <td>CALLE</td>\n",
       "      <td>...</td>\n",
       "      <td>709.0</td>\n",
       "      <td>NaN</td>\n",
       "      <td>PADRE CARLOS MUGICA 709</td>\n",
       "      <td>1</td>\n",
       "      <td>Point (107664.16647795 104708.63962087)</td>\n",
       "      <td>-58.37976155</td>\n",
       "      <td>-34.58679619</td>\n",
       "      <td>BICICLETA-AUTO</td>\n",
       "      <td>BICICLETA</td>\n",
       "      <td>AUTO</td>\n",
       "    </tr>\n",
       "  </tbody>\n",
       "</table>\n",
       "<p>696 rows × 21 columns</p>\n",
       "</div>"
      ],
      "text/plain": [
       "            ID  N_VICTIMAS      FECHA  AAAA  MM  DD      HORA  HH  \\\n",
       "0    2016-0001           1 2016-01-01  2016   1   1  04:00:00   4   \n",
       "1    2016-0002           1 2016-01-02  2016   1   2  01:15:00   1   \n",
       "2    2016-0003           1 2016-01-03  2016   1   3  07:00:00   7   \n",
       "3    2016-0004           1 2016-01-10  2016   1  10  00:00:00   0   \n",
       "4    2016-0005           1 2016-01-21  2016   1  21  05:20:00   5   \n",
       "..         ...         ...        ...   ...  ..  ..       ...  ..   \n",
       "691  2021-0093           1 2021-12-13  2021  12  13  17:10:00  17   \n",
       "692  2021-0094           1 2021-12-20  2021  12  20  01:10:00   1   \n",
       "693  2021-0095           1 2021-12-30  2021  12  30  00:43:00   0   \n",
       "694  2021-0096           1 2021-12-15  2021  12  15  10:30:00  10   \n",
       "695  2021-0097           1 2021-11-18  2021  11  18  06:10:00   6   \n",
       "\n",
       "                               LUGAR_DEL_HECHO TIPO_DE_CALLE  ...  Altura  \\\n",
       "0    AV PIEDRA BUENA Y AV FERNANDEZ DE LA CRUZ       AVENIDA  ...     NaN   \n",
       "1            AV GRAL PAZ  Y AV DE LOS CORRALES      GRAL PAZ  ...     NaN   \n",
       "2                           AV ENTRE RIOS 2034       AVENIDA  ...  2034.0   \n",
       "3        AV LARRAZABAL Y GRAL VILLEGAS CONRADO       AVENIDA  ...     NaN   \n",
       "4    AV SAN JUAN Y PRESIDENTE LUIS SAENZ PEÑA        AVENIDA  ...     NaN   \n",
       "..                                         ...           ...  ...     ...   \n",
       "691                          AV. RIESTRA Y MOM       AVENIDA  ...     NaN   \n",
       "692                    AU DELLEPIANE Y LACARRA     AUTOPISTA  ...     NaN   \n",
       "693                        AV. GAONA Y TERRADA       AVENIDA  ...     NaN   \n",
       "694                         AV. EVA PERON 4071       AVENIDA  ...  4071.0   \n",
       "695                    PADRE CARLOS MUJICA 709         CALLE  ...   709.0   \n",
       "\n",
       "                                   Cruce  \\\n",
       "0    FERNANDEZ DE LA CRUZ, F., GRAL. AV.   \n",
       "1                    DE LOS CORRALES AV.   \n",
       "2                                    NaN   \n",
       "3               VILLEGAS, CONRADO, GRAL.   \n",
       "4                SAENZ PE?A, LUIS, PRES.   \n",
       "..                                   ...   \n",
       "691                                  MOM   \n",
       "692                          LACARRA AV.   \n",
       "693                              TERRADA   \n",
       "694                                  NaN   \n",
       "695                                  NaN   \n",
       "\n",
       "                                 Dirección Normalizada COMUNA  \\\n",
       "0    PIEDRA BUENA AV. y FERNANDEZ DE LA CRUZ, F., G...      8   \n",
       "1                 PAZ, GRAL. AV. y DE LOS CORRALES AV.      9   \n",
       "2                                  ENTRE RIOS AV. 2034      1   \n",
       "3            LARRAZABAL AV. y VILLEGAS, CONRADO, GRAL.      8   \n",
       "4              SAN JUAN AV. y SAENZ PEÃ‘A, LUIS, PRES.      1   \n",
       "..                                                 ...    ...   \n",
       "691                                  RIESTRA AV. y MOM      7   \n",
       "692         DELLEPIANE, LUIS, TTE. GRAL. y LACARRA AV.      9   \n",
       "693                                GAONA AV. y TERRADA     11   \n",
       "694                                PERON, EVA AV. 4071      9   \n",
       "695                            PADRE CARLOS MUGICA 709      1   \n",
       "\n",
       "                                   XY (CABA)         pos x         pos y  \\\n",
       "0      Point (98896.78238426 93532.43437792)  -58.47533969  -34.68757022   \n",
       "1      Point (95832.05571093 95505.41641999)  -58.50877521  -34.66977709   \n",
       "2     Point (106684.29090040 99706.57687843)  -58.39040293  -34.63189362   \n",
       "3      Point (99840.65224780 94269.16534422)  -58.46503904  -34.68092974   \n",
       "4    Point (106980.32827929 100752.16915795)  -58.38718297  -34.62246630   \n",
       "..                                       ...           ...           ...   \n",
       "691   Point (102728.60090138 98186.24929177)  -58.43353773  -34.64561636   \n",
       "692    Point (99624.29795829 97569.69801131)  -58.46739825  -34.65117757   \n",
       "693   Point (99116.45492358 101045.23284826)  -58.47293407  -34.61984745   \n",
       "694    Point (99324.54463985 97676.26932409)  -58.47066794  -34.65021673   \n",
       "695  Point (107664.16647795 104708.63962087)  -58.37976155  -34.58679619   \n",
       "\n",
       "      PARTICIPANTES    VICTIMA    ACUSADO  \n",
       "0         MOTO-AUTO       MOTO       AUTO  \n",
       "1    AUTO-PASAJEROS       AUTO  PASAJEROS  \n",
       "2         MOTO-AUTO       MOTO       AUTO  \n",
       "3           MOTO-SD       MOTO         SD  \n",
       "4    MOTO-PASAJEROS       MOTO  PASAJEROS  \n",
       "..              ...        ...        ...  \n",
       "691       MOTO-AUTO       MOTO       AUTO  \n",
       "692       MOTO-AUTO       MOTO       AUTO  \n",
       "693     MOTO-CARGAS       MOTO     CARGAS  \n",
       "694     AUTO-CARGAS       AUTO     CARGAS  \n",
       "695  BICICLETA-AUTO  BICICLETA       AUTO  \n",
       "\n",
       "[696 rows x 21 columns]"
      ]
     },
     "execution_count": 18,
     "metadata": {},
     "output_type": "execute_result"
    }
   ],
   "source": [
    "df_homicidos"
   ]
  },
  {
   "cell_type": "code",
   "execution_count": 19,
   "metadata": {},
   "outputs": [
    {
     "name": "stdout",
     "output_type": "stream",
     "text": [
      "<class 'pandas.core.frame.DataFrame'>\n",
      "RangeIndex: 696 entries, 0 to 695\n",
      "Data columns (total 21 columns):\n",
      " #   Column                 Non-Null Count  Dtype         \n",
      "---  ------                 --------------  -----         \n",
      " 0   ID                     696 non-null    object        \n",
      " 1   N_VICTIMAS             696 non-null    int64         \n",
      " 2   FECHA                  696 non-null    datetime64[ns]\n",
      " 3   AAAA                   696 non-null    int64         \n",
      " 4   MM                     696 non-null    int64         \n",
      " 5   DD                     696 non-null    int64         \n",
      " 6   HORA                   696 non-null    object        \n",
      " 7   HH                     696 non-null    object        \n",
      " 8   LUGAR_DEL_HECHO        696 non-null    object        \n",
      " 9   TIPO_DE_CALLE          696 non-null    object        \n",
      " 10  Calle                  695 non-null    object        \n",
      " 11  Altura                 129 non-null    float64       \n",
      " 12  Cruce                  525 non-null    object        \n",
      " 13  Dirección Normalizada  688 non-null    object        \n",
      " 14  COMUNA                 696 non-null    int64         \n",
      " 15  XY (CABA)              696 non-null    object        \n",
      " 16  pos x                  696 non-null    object        \n",
      " 17  pos y                  696 non-null    object        \n",
      " 18  PARTICIPANTES          696 non-null    object        \n",
      " 19  VICTIMA                696 non-null    object        \n",
      " 20  ACUSADO                696 non-null    object        \n",
      "dtypes: datetime64[ns](1), float64(1), int64(5), object(14)\n",
      "memory usage: 114.3+ KB\n"
     ]
    }
   ],
   "source": [
    "df_homicidos.info()"
   ]
  },
  {
   "cell_type": "markdown",
   "metadata": {},
   "source": [
    "-------------------------------------------------"
   ]
  },
  {
   "cell_type": "markdown",
   "metadata": {},
   "source": [
    "**Datos Faltante**"
   ]
  },
  {
   "cell_type": "code",
   "execution_count": 38,
   "metadata": {},
   "outputs": [
    {
     "name": "stdout",
     "output_type": "stream",
     "text": [
      "Hay valores faltantes en el DataFrame.\n",
      "No hay valores faltantes en 'N_VICTIMAS'.\n",
      "No hay valores faltantes en 'ID'.\n",
      "No hay valores faltantes en 'FECHA'.\n",
      "No hay valores faltantes en 'MM'.\n",
      "No hay valores faltantes en 'HORA'.\n",
      "No hay valores faltantes en 'LUGAR_DEL_HECHO'.\n",
      "No hay valores faltantes en 'TIPO_DE_CALLE'.\n",
      "No hay valores faltantes en 'Calle'.\n",
      "No hay valores faltantes en 'Altura'.\n",
      "No hay valores faltantes en 'Cruce '.\n",
      "Hay valores faltantes en 'Dirección Normalizada'.\n",
      "Hay valores faltantes en 'COMUNA'.\n",
      "Hay valores faltantes en 'XY (CABA)'.\n",
      "Hay valores faltantes en 'pos x'.\n",
      "No hay valores faltantes en 'pos y'.\n",
      "No hay valores faltantes en 'PARTICIPANTES'.\n",
      "No hay valores faltantes en 'VICTIMA'.\n",
      "No hay valores faltantes en 'ACUSADO'.\n"
     ]
    }
   ],
   "source": [
    "valores_faltantes_totales = df_homicidos.isna().any().any()\n",
    "if valores_faltantes_totales:\n",
    "    print(\"Hay valores faltantes en el DataFrame.\")\n",
    "else:\n",
    "    print(\"No hay valores faltantes en el DataFrame.\")\n",
    "\n",
    "# Para verificar si hay valores faltantes en columnas específicas:\n",
    "valores_faltantes_columna1 = df_homicidos['ID'].isna().any()\n",
    "valores_faltantes_columna2 = df_homicidos['N_VICTIMAS'].isna().any()\n",
    "valores_faltantes_columna3 = df_homicidos['FECHA'].isna().any()\n",
    "valores_faltantes_columna4 = df_homicidos['AAAA'].isna().any()\n",
    "valores_faltantes_columna5 = df_homicidos['MM'].isna().any()\n",
    "valores_faltantes_columna6 = df_homicidos['DD'].isna().any()\n",
    "valores_faltantes_columna7 = df_homicidos['HORA'].isna().any()\n",
    "valores_faltantes_columna8 = df_homicidos['HH'].isna().any()\n",
    "valores_faltantes_columna9 = df_homicidos['LUGAR_DEL_HECHO'].isna().any()\n",
    "valores_faltantes_columna10 = df_homicidos['TIPO_DE_CALLE'].isna().any()\n",
    "valores_faltantes_columna11= df_homicidos['Calle'].isna().any()\n",
    "valores_faltantes_columna12= df_homicidos['Altura'].isna().any()\n",
    "\n",
    "valores_faltantes_columna13 = df_homicidos['Cruce'].isna().any()\n",
    "valores_faltantes_columna14= df_homicidos['Dirección Normalizada'].isna().any()\n",
    "valores_faltantes_columna15= df_homicidos['COMUNA'].isna().any()\n",
    "valores_faltantes_columna16 = df_homicidos['XY (CABA)'].isna().any()\n",
    "valores_faltantes_columna17 = df_homicidos['pos x'].isna().any()\n",
    "valores_faltantes_columna18= df_homicidos['pos y'].isna().any()\n",
    "valores_faltantes_columna19 = df_homicidos['PARTICIPANTES'].isna().any()\n",
    "valores_faltantes_columna20 = df_homicidos['VICTIMA'].isna().any()\n",
    "valores_faltantes_columna21 = df_homicidos['ACUSADO'].isna().any()\n",
    "\n",
    "\n",
    "if valores_faltantes_columna2:\n",
    "    print(\"Hay valores faltantes en 'N_VICTIMAS'.\")\n",
    "else:\n",
    "    print(\"No hay valores faltantes en 'N_VICTIMAS'.\")\n",
    "\n",
    "if valores_faltantes_columna1:\n",
    "    print(\"Hay valores faltantes en 'ID'.\")\n",
    "else:\n",
    "    print(\"No hay valores faltantes en 'ID'.\")\n",
    "\n",
    "if valores_faltantes_columna3:\n",
    "    print(\"Hay valores faltantes en 'FECHA'.\")\n",
    "else:\n",
    "    print(\"No hay valores faltantes en 'FECHA'.\")\n",
    "\n",
    "if valores_faltantes_columna4:\n",
    "    print(\"Hay valores faltantes en 'MM'.\")\n",
    "else:\n",
    "    print(\"No hay valores faltantes en 'MM'.\")\n",
    "\n",
    "if valores_faltantes_columna5:\n",
    "    print(\"Hay valores faltantes en 'HORA'.\")\n",
    "else:\n",
    "    print(\"No hay valores faltantes en 'HORA'.\")\n",
    "    \n",
    "if valores_faltantes_columna6:\n",
    "    print(\"Hay valores faltantes en 'LUGAR_DEL_HECHO'.\")\n",
    "else:\n",
    "    print(\"No hay valores faltantes en 'LUGAR_DEL_HECHO'.\")\n",
    "\n",
    "if valores_faltantes_columna7:\n",
    "    print(\"Hay valores faltantes en 'TIPO_DE_CALLE'.\")\n",
    "else:\n",
    "    print(\"No hay valores faltantes en 'TIPO_DE_CALLE'.\")\n",
    "\n",
    "if valores_faltantes_columna8:\n",
    "    print(\"Hay valores faltantes en 'Calle'.\")\n",
    "else:\n",
    "    print(\"No hay valores faltantes en 'Calle'.\")\n",
    "\n",
    "if valores_faltantes_columna9:\n",
    "    print(\"Hay valores faltantes en 'Altura'.\")\n",
    "else:\n",
    "    print(\"No hay valores faltantes en 'Altura'.\")\n",
    "\n",
    "\n",
    "if valores_faltantes_columna10:\n",
    "    print(\"Hay valores faltantes en 'Cruce'.\")\n",
    "else:\n",
    "    print(\"No hay valores faltantes en 'Cruce '.\")\n",
    "\n",
    "if valores_faltantes_columna11:\n",
    "    print(\"Hay valores faltantes en 'Dirección Normalizada'.\")\n",
    "else:\n",
    "    print(\"No hay valores faltantes en 'Dirección Normalizada'.\")\n",
    "\n",
    "if valores_faltantes_columna12:\n",
    "    print(\"Hay valores faltantes en 'COMUNA'.\")\n",
    "else:\n",
    "    print(\"No hay valores faltantes en 'COMUNA'.\")\n",
    "\n",
    "if valores_faltantes_columna13:\n",
    "    print(\"Hay valores faltantes en 'XY (CABA)'.\")\n",
    "else:\n",
    "    print(\"No hay valores faltantes en 'XY (CABA)'.\")\n",
    "\n",
    "if valores_faltantes_columna14:\n",
    "    print(\"Hay valores faltantes en 'pos x'.\")\n",
    "else:\n",
    "    print(\"No hay valores faltantes en 'pos x'.\")\n",
    "    \n",
    "if valores_faltantes_columna15:\n",
    "    print(\"Hay valores faltantes en 'pos y'.\")\n",
    "else:\n",
    "    print(\"No hay valores faltantes en 'pos y'.\")\n",
    "\n",
    "if valores_faltantes_columna16:\n",
    "    print(\"Hay valores faltantes en 'PARTICIPANTES'.\")\n",
    "else:\n",
    "    print(\"No hay valores faltantes en 'PARTICIPANTES'.\")\n",
    "\n",
    "if valores_faltantes_columna17:\n",
    "    print(\"Hay valores faltantes en 'VICTIMA'.\")\n",
    "else:\n",
    "    print(\"No hay valores faltantes en 'VICTIMA'.\")\n",
    "\n",
    "if valores_faltantes_columna18:\n",
    "    print(\"Hay valores faltantes en 'ACUSADO'.\")\n",
    "else:\n",
    "    print(\"No hay valores faltantes en 'ACUSADO'.\")"
   ]
  },
  {
   "cell_type": "code",
   "execution_count": 39,
   "metadata": {},
   "outputs": [
    {
     "data": {
      "image/png": "[encoded data removed]",
      "text/plain": [
       "<Figure size 640x480 with 1 Axes>"
      ]
     },
     "metadata": {},
     "output_type": "display_data"
    }
   ],
   "source": [
    "columnas_valores_faltantes = [\n",
    "    ('ID', valores_faltantes_columna1),\n",
    "    ('N_VICTIMAS', valores_faltantes_columna2),\n",
    "    ('FECHA', valores_faltantes_columna3),\n",
    "    ('AAAA', valores_faltantes_columna4),\n",
    "    ('MM', valores_faltantes_columna5),\n",
    "    ('DD', valores_faltantes_columna6),\n",
    "    ('HORA', valores_faltantes_columna7),\n",
    "    ('HH', valores_faltantes_columna8),\n",
    "    ('LUGAR_DEL_HECHO', valores_faltantes_columna9),\n",
    "    ('TIPO_DE_CALLE', valores_faltantes_columna10),\n",
    "    ('Calle', valores_faltantes_columna11),\n",
    "    ('Altura', valores_faltantes_columna12),\n",
    "    ('Cruce', valores_faltantes_columna13),\n",
    "    ('Dirección Normalizada', valores_faltantes_columna14),\n",
    "    ('COMUNA', valores_faltantes_columna15),\n",
    "    ('XY (CABA)', valores_faltantes_columna16),\n",
    "    ('pos x', valores_faltantes_columna17),\n",
    "    ('pos y', valores_faltantes_columna18),\n",
    "    ('PARTICIPANTES', valores_faltantes_columna19),\n",
    "    ('VICTIMA', valores_faltantes_columna20),\n",
    "    ('ACUSADO', valores_faltantes_columna21)\n",
    "]\n",
    "\n",
    "# Contadores para valores faltantes y no faltantes\n",
    "con_valores_faltantes = 0\n",
    "sin_valores_faltantes = 0\n",
    "\n",
    "# Calcular la cantidad de columnas con y sin valores faltantes\n",
    "for _, estado in columnas_valores_faltantes:\n",
    "    if estado:\n",
    "        con_valores_faltantes += 1\n",
    "    else:\n",
    "        sin_valores_faltantes += 1\n",
    "\n",
    "# Etiquetas y datos para el gráfico de barras\n",
    "etiquetas = ['Con valores faltantes', 'Sin valores faltantes']\n",
    "datos = [con_valores_faltantes, sin_valores_faltantes]\n",
    "\n",
    "# Crear el gráfico de barras\n",
    "plt.bar(etiquetas, datos, color=['red', 'green'])\n",
    "plt.title('Presencia de valores faltantes en columnas del DataFrame')\n",
    "plt.xlabel('Estado de valores faltantes')\n",
    "plt.ylabel('Cantidad de columnas')\n",
    "plt.show()"
   ]
  },
  {
   "cell_type": "markdown",
   "metadata": {},
   "source": [
    "--> Hay valores faltantes en el Dataframe, en las columnas'XY (CABA)', pos x."
   ]
  },
  {
   "cell_type": "markdown",
   "metadata": {},
   "source": [
    "----------------------------------"
   ]
  },
  {
   "cell_type": "markdown",
   "metadata": {},
   "source": [
    "**Datos duplicados**"
   ]
  },
  {
   "cell_type": "code",
   "execution_count": 21,
   "metadata": {},
   "outputs": [
    {
     "name": "stdout",
     "output_type": "stream",
     "text": [
      "No hay datos duplicados en el DataFrame.\n"
     ]
    }
   ],
   "source": [
    "hay_duplicados = df_homicidos.duplicated().any()\n",
    "\n",
    "if hay_duplicados:\n",
    "    print(\"Hay datos duplicados en el DataFrame.\")\n",
    "else:\n",
    "    print(\"No hay datos duplicados en el DataFrame.\")"
   ]
  },
  {
   "cell_type": "markdown",
   "metadata": {},
   "source": [
    "--> NO hay datos duplicados en el Dataframe.\n"
   ]
  },
  {
   "cell_type": "markdown",
   "metadata": {},
   "source": [
    "---------------------------------------"
   ]
  },
  {
   "cell_type": "markdown",
   "metadata": {},
   "source": [
    "**Datos atipicos (outiers)**"
   ]
  },
  {
   "cell_type": "code",
   "execution_count": 33,
   "metadata": {},
   "outputs": [
    {
     "name": "stdout",
     "output_type": "stream",
     "text": [
      "       N_VICTIMAS                          FECHA         AAAA          MM  \\\n",
      "count  696.000000                            696   696.000000  696.000000   \n",
      "mean     1.030172  2018-09-14 05:12:24.827586048  2018.188218    6.692529   \n",
      "min      1.000000            2016-01-01 00:00:00  2016.000000    1.000000   \n",
      "25%      1.000000            2017-04-02 12:00:00  2017.000000    4.000000   \n",
      "50%      1.000000            2018-07-12 12:00:00  2018.000000    7.000000   \n",
      "75%      1.000000            2020-01-04 06:00:00  2020.000000   10.000000   \n",
      "max      3.000000            2021-12-30 00:00:00  2021.000000   12.000000   \n",
      "std      0.179393                            NaN     1.683754    3.571309   \n",
      "\n",
      "               DD        Altura      COMUNA  \n",
      "count  696.000000    129.000000  696.000000  \n",
      "mean    15.936782   3336.635659    7.425287  \n",
      "min      1.000000     30.000000    0.000000  \n",
      "25%      9.000000   1359.000000    4.000000  \n",
      "50%     16.000000   2551.000000    8.000000  \n",
      "75%     23.000000   4500.000000   11.000000  \n",
      "max     31.000000  16080.000000   15.000000  \n",
      "std      8.639646   3060.641793    4.387050  \n"
     ]
    }
   ],
   "source": [
    "descripcion = df_homicidos.describe()\n",
    "print(descripcion)"
   ]
  },
  {
   "cell_type": "code",
   "execution_count": 35,
   "metadata": {},
   "outputs": [
    {
     "data": {
      "image/png": "[encoded data removed]",
      "text/plain": [
       "<Figure size 800x600 with 1 Axes>"
      ]
     },
     "metadata": {},
     "output_type": "display_data"
    }
   ],
   "source": [
    "# Crea un boxplot\n",
    "plt.figure(figsize=(8, 6))\n",
    "df_homicidos.boxplot()\n",
    "plt.title('Boxplot de Homicidios')\n",
    "plt.ylabel('Número de homicidios')\n",
    "plt.show()"
   ]
  },
  {
   "cell_type": "markdown",
   "metadata": {},
   "source": [
    "------------------------------------------------"
   ]
  },
  {
   "cell_type": "markdown",
   "metadata": {},
   "source": [
    "Se analiza cuantos accidentes hubieron en cada tipo de via de circulacion."
   ]
  },
  {
   "cell_type": "code",
   "execution_count": 22,
   "metadata": {},
   "outputs": [
    {
     "name": "stdout",
     "output_type": "stream",
     "text": [
      "Variables dentro de TIPO_DE_CALLE: ['AVENIDA' 'GRAL PAZ' 'CALLE' 'AUTOPISTA']\n"
     ]
    }
   ],
   "source": [
    "valores_tipo_de_calle = df_homicidos['TIPO_DE_CALLE'].unique()\n",
    "\n",
    "print(\"Variables dentro de TIPO_DE_CALLE:\", valores_tipo_de_calle)"
   ]
  },
  {
   "cell_type": "code",
   "execution_count": 23,
   "metadata": {},
   "outputs": [
    {
     "name": "stdout",
     "output_type": "stream",
     "text": [
      "Número de filas con 'AVENIDA': 429\n",
      "Número de filas con 'GRAL PAZ': 65\n",
      "Número de filas con 'AUTOPISTA': 66\n",
      "Número de filas con 'CALLE': 136\n"
     ]
    }
   ],
   "source": [
    "conteo_av = df_homicidos[df_homicidos['TIPO_DE_CALLE'] == 'AVENIDA'].shape[0]\n",
    "conteo_gp = df_homicidos[df_homicidos['TIPO_DE_CALLE'] == 'GRAL PAZ'].shape[0]\n",
    "conteo_autopista = df_homicidos[df_homicidos['TIPO_DE_CALLE'] == 'AUTOPISTA'].shape[0]\n",
    "conteo_calle = df_homicidos[df_homicidos['TIPO_DE_CALLE'] == 'CALLE'].shape[0]\n",
    "\n",
    "print(\"Número de filas con 'AVENIDA':\", conteo_av)\n",
    "print(\"Número de filas con 'GRAL PAZ':\", conteo_gp)\n",
    "print(\"Número de filas con 'AUTOPISTA':\", conteo_autopista)\n",
    "print(\"Número de filas con 'CALLE':\", conteo_calle)"
   ]
  },
  {
   "cell_type": "markdown",
   "metadata": {},
   "source": [
    "**Grafico**"
   ]
  },
  {
   "cell_type": "code",
   "execution_count": 30,
   "metadata": {},
   "outputs": [
    {
     "data": {
      "image/png": "[encoded data removed]",
      "text/plain": [
       "<Figure size 640x480 with 1 Axes>"
      ]
     },
     "metadata": {},
     "output_type": "display_data"
    }
   ],
   "source": [
    "tipos_de_calle = ['AVENIDA', 'GRAL PAZ', 'AUTOPISTA', 'CALLE']\n",
    "conteos = [conteo_av, conteo_gp, conteo_autopista, conteo_calle]\n",
    "\n",
    "# Crear el gráfico\n",
    "plt.bar(tipos_de_calle, conteos, color='skyblue')\n",
    "plt.xlabel('Tipo de Calle')\n",
    "plt.ylabel('Cantidad de Homicidios')\n",
    "plt.title('Cantidad de Homicidios por Tipo de Calle')\n",
    "plt.show()"
   ]
  },
  {
   "cell_type": "markdown",
   "metadata": {},
   "source": [
    "--> En total 429 accidentes en Avenidas, 65 accidentes en General Paz, 66 accidentes en Autopistas, 136 accidentes en Calle."
   ]
  },
  {
   "cell_type": "markdown",
   "metadata": {},
   "source": [
    "--------------------------------------------------"
   ]
  },
  {
   "cell_type": "markdown",
   "metadata": {},
   "source": [
    "**Se analiza cuantas vicitmas hubieron por tipo de medio de transporte.**"
   ]
  },
  {
   "cell_type": "code",
   "execution_count": 24,
   "metadata": {},
   "outputs": [
    {
     "name": "stdout",
     "output_type": "stream",
     "text": [
      "Variables dentro de VICTIMA: ['MOTO' 'AUTO' 'PEATON' 'SD' 'CARGAS' 'BICICLETA' 'PASAJEROS' 'MOVIL'\n",
      " 'OBJETO FIJO' 'PEATON_MOTO']\n"
     ]
    }
   ],
   "source": [
    "valores_VICTIMA = df_homicidos['VICTIMA'].unique()\n",
    "\n",
    "print(\"Variables dentro de VICTIMA:\", valores_VICTIMA)"
   ]
  },
  {
   "cell_type": "code",
   "execution_count": 25,
   "metadata": {},
   "outputs": [
    {
     "name": "stdout",
     "output_type": "stream",
     "text": [
      "Número de filas con 'MOTO': 295\n",
      "Número de filas con 'AUTO': 83\n",
      "Número de filas con 'PEATON': 264\n",
      "Número de filas con 'SD': 9\n",
      "Número de filas con 'CARGAS': 7\n",
      "Número de filas con 'BICICLETA': 29\n",
      "Número de filas con 'PASAJEROS': 5\n",
      "Número de filas con 'MOVIL': 2\n",
      "Número de filas con 'OBJETO FIJO': 1\n",
      "Número de filas con 'PEATON_MOTO': 1\n"
     ]
    }
   ],
   "source": [
    "conteo_moto= df_homicidos[df_homicidos['VICTIMA'] == 'MOTO'].shape[0]\n",
    "conteo_auto = df_homicidos[df_homicidos['VICTIMA'] == 'AUTO'].shape[0]\n",
    "conteo_peaton = df_homicidos[df_homicidos['VICTIMA'] == 'PEATON'].shape[0]\n",
    "conteo_sd = df_homicidos[df_homicidos['VICTIMA'] == 'SD'].shape[0]\n",
    "conteo_cargas= df_homicidos[df_homicidos['VICTIMA'] == 'CARGAS'].shape[0]\n",
    "conteo_bicileta = df_homicidos[df_homicidos['VICTIMA'] == 'BICICLETA'].shape[0]\n",
    "conteo_pasajeros = df_homicidos[df_homicidos['VICTIMA'] == 'PASAJEROS'].shape[0]\n",
    "conteo_movil = df_homicidos[df_homicidos['VICTIMA'] == 'MOVIL'].shape[0]\n",
    "conteo_objetofijo = df_homicidos[df_homicidos['VICTIMA'] == 'OBJETO FIJO'].shape[0]\n",
    "conteo_peatonmoto = df_homicidos[df_homicidos['VICTIMA'] == 'PEATON_MOTO'].shape[0]\n",
    "\n",
    "\n",
    "print(\"Número de filas con 'MOTO':\", conteo_moto)\n",
    "print(\"Número de filas con 'AUTO':\", conteo_auto)\n",
    "print(\"Número de filas con 'PEATON':\", conteo_peaton)\n",
    "print(\"Número de filas con 'SD':\", conteo_sd)\n",
    "print(\"Número de filas con 'CARGAS':\", conteo_cargas)\n",
    "print(\"Número de filas con 'BICICLETA':\", conteo_bicileta)\n",
    "print(\"Número de filas con 'PASAJEROS':\", conteo_pasajeros)\n",
    "print(\"Número de filas con 'MOVIL':\", conteo_movil)\n",
    "print(\"Número de filas con 'OBJETO FIJO':\", conteo_objetofijo)\n",
    "print(\"Número de filas con 'PEATON_MOTO':\", conteo_peatonmoto)"
   ]
  },
  {
   "cell_type": "markdown",
   "metadata": {},
   "source": [
    "**Grafico**"
   ]
  },
  {
   "cell_type": "code",
   "execution_count": 31,
   "metadata": {},
   "outputs": [
    {
     "data": {
      "image/png": "[encoded data removed]",
      "text/plain": [
       "<Figure size 1000x600 with 1 Axes>"
      ]
     },
     "metadata": {},
     "output_type": "display_data"
    }
   ],
   "source": [
    "tipos_de_victima = ['MOTO', 'AUTO', 'PEATON', 'SD', 'CARGAS', 'BICICLETA', 'PASAJEROS', 'MOVIL', 'OBJETO FIJO', 'PEATON_MOTO']\n",
    "conteos = [conteo_moto, conteo_auto, conteo_peaton, conteo_sd, conteo_cargas, conteo_bicileta, conteo_pasajeros, conteo_movil, conteo_objetofijo, conteo_peatonmoto]\n",
    "\n",
    "# Crear el gráfico\n",
    "plt.figure(figsize=(10,6))\n",
    "plt.barh(tipos_de_victima, conteos, color='skyblue')\n",
    "plt.xlabel('Cantidad de Homicidios')\n",
    "plt.ylabel('Tipo de Victima')\n",
    "plt.title('Cantidad de Homicidios por Tipo de Victima')\n",
    "plt.gca().invert_yaxis()  # Invertir el eje y para que el valor más alto esté arriba\n",
    "plt.show()"
   ]
  },
  {
   "cell_type": "markdown",
   "metadata": {},
   "source": [
    "--> En total hay 295 accidentes en moto, 83 accidentes en auto, 264 accidentes en peaton, 9 accidentes en sd, 7 accidentes en cargas, 29 accidentes en bicileta, 5 accidentes en pasajero, 2 accidentes en movil, 1 accidentes en objeto fijo y 1 accidentes en peaton moto."
   ]
  },
  {
   "cell_type": "markdown",
   "metadata": {},
   "source": [
    "--------------------------------------------------------------"
   ]
  },
  {
   "cell_type": "markdown",
   "metadata": {},
   "source": [
    "**Se analiza cuantas acusado hubieron por tipo de medio de transporte.**"
   ]
  },
  {
   "cell_type": "code",
   "execution_count": 29,
   "metadata": {},
   "outputs": [
    {
     "name": "stdout",
     "output_type": "stream",
     "text": [
      "Número de filas con 'MOTO': 57\n",
      "Número de filas con 'AUTO': 204\n",
      "Número de filas con 'PEATON': 0\n",
      "Número de filas con 'SD': 23\n",
      "Número de filas con 'CARGAS': 146\n",
      "Número de filas con 'BICICLETA': 7\n",
      "Número de filas con 'PASAJEROS': 173\n",
      "Número de filas con 'MOVIL': 0\n",
      "Número de filas con 'OBJETO FIJO': 62\n",
      "Número de filas con 'PEATON_MOTO': 0\n"
     ]
    }
   ],
   "source": [
    "conteo_moto1= df_homicidos[df_homicidos['ACUSADO'] == 'MOTO'].shape[0]\n",
    "conteo_auto1 = df_homicidos[df_homicidos['ACUSADO'] == 'AUTO'].shape[0]\n",
    "conteo_peaton1 = df_homicidos[df_homicidos['ACUSADO'] == 'PEATON'].shape[0]\n",
    "conteo_sd1 = df_homicidos[df_homicidos['ACUSADO'] == 'SD'].shape[0]\n",
    "conteo_cargas1= df_homicidos[df_homicidos['ACUSADO'] == 'CARGAS'].shape[0]\n",
    "conteo_bicileta1 = df_homicidos[df_homicidos['ACUSADO'] == 'BICICLETA'].shape[0]\n",
    "conteo_pasajeros1 = df_homicidos[df_homicidos['ACUSADO'] == 'PASAJEROS'].shape[0]\n",
    "conteo_movil1 = df_homicidos[df_homicidos['ACUSADO'] == 'MOVIL'].shape[0]\n",
    "conteo_objetofijo1 = df_homicidos[df_homicidos['ACUSADO'] == 'OBJETO FIJO'].shape[0]\n",
    "conteo_peatonmoto1 = df_homicidos[df_homicidos['ACUSADO'] == 'PEATON_MOTO'].shape[0]\n",
    "\n",
    "\n",
    "print(\"Número de filas con 'MOTO':\", conteo_moto1)\n",
    "print(\"Número de filas con 'AUTO':\", conteo_auto1)\n",
    "print(\"Número de filas con 'PEATON':\", conteo_peaton1)\n",
    "print(\"Número de filas con 'SD':\", conteo_sd1)\n",
    "print(\"Número de filas con 'CARGAS':\", conteo_cargas1)\n",
    "print(\"Número de filas con 'BICICLETA':\", conteo_bicileta1)\n",
    "print(\"Número de filas con 'PASAJEROS':\", conteo_pasajeros1)\n",
    "print(\"Número de filas con 'MOVIL':\", conteo_movil1)\n",
    "print(\"Número de filas con 'OBJETO FIJO':\", conteo_objetofijo1)\n",
    "print(\"Número de filas con 'PEATON_MOTO':\", conteo_peatonmoto1)"
   ]
  },
  {
   "cell_type": "markdown",
   "metadata": {},
   "source": [
    "**Grafico**"
   ]
  },
  {
   "cell_type": "code",
   "execution_count": 32,
   "metadata": {},
   "outputs": [
    {
     "data": {
      "image/png": "[encoded data removed]",
      "text/plain": [
       "<Figure size 1000x600 with 1 Axes>"
      ]
     },
     "metadata": {},
     "output_type": "display_data"
    }
   ],
   "source": [
    "tipos_de_acusado = ['MOTO', 'AUTO', 'PEATON', 'SD', 'CARGAS', 'BICICLETA', 'PASAJEROS', 'MOVIL', 'OBJETO FIJO', 'PEATON_MOTO']\n",
    "conteos_acusados = [conteo_moto1, conteo_auto1, conteo_peaton1, conteo_sd1, conteo_cargas1, conteo_bicileta1, conteo_pasajeros1, conteo_movil1, conteo_objetofijo1, conteo_peatonmoto1]\n",
    "\n",
    "# Crear el gráfico\n",
    "plt.figure(figsize=(10,6))\n",
    "plt.barh(tipos_de_acusado, conteos_acusados, color='skyblue')\n",
    "plt.xlabel('Cantidad de Homicidios')\n",
    "plt.ylabel('Tipo de Acusado')\n",
    "plt.title('Cantidad de Homicidios por Tipo de Acusado')\n",
    "plt.gca().invert_yaxis()  # Invertir el eje y para que el valor más alto esté arriba\n",
    "plt.show()"
   ]
  },
  {
   "cell_type": "markdown",
   "metadata": {},
   "source": [
    "--> En total hay 57 accidentes en moto, 204 accidentes en auto, 0 accidentes en peaton, 23 accidentes en sd, 146 accidentes en cargas, 7 accidentes en bicileta, 173 accidentes en pasajero, 0 accidentes en movil, 62 accidentes en objeto fijo y 0 accidentes en peaton moto."
   ]
  },
  {
   "cell_type": "markdown",
   "metadata": {},
   "source": [
    "----------------------------------------------------------------"
   ]
  },
  {
   "cell_type": "markdown",
   "metadata": {},
   "source": [
    "**Se analiza que tipo de participante fue el mas accidentado.**"
   ]
  },
  {
   "cell_type": "code",
   "execution_count": 28,
   "metadata": {},
   "outputs": [
    {
     "name": "stdout",
     "output_type": "stream",
     "text": [
      "El valor que se repite más en la columna PARTICIPANTES es: PEATON-PASAJEROS\n",
      "Número de repeticiones: 105\n"
     ]
    }
   ],
   "source": [
    "# Suponiendo que df_homicidos es tu DataFrame\n",
    "conteo_participantes = df_homicidos['PARTICIPANTES'].value_counts()\n",
    "\n",
    "# Obtener el valor que se repite más\n",
    "valor_mas_comun = conteo_participantes.idxmax()\n",
    "repeticiones = conteo_participantes.max()\n",
    "\n",
    "print(\"El valor que se repite más en la columna PARTICIPANTES es:\", valor_mas_comun)\n",
    "print(\"Número de repeticiones:\", repeticiones)"
   ]
  },
  {
   "cell_type": "markdown",
   "metadata": {},
   "source": [
    "--> Peaton-Pasajero es el valor con mas accidentes con un total de 105\n"
   ]
  }
 ],
 "metadata": {
  "kernelspec": {
   "display_name": "Python 3",
   "language": "python",
   "name": "python3"
  },
  "language_info": {
   "codemirror_mode": {
    "name": "ipython",
    "version": 3
   },
   "file_extension": ".py",
   "mimetype": "text/x-python",
   "name": "python",
   "nbconvert_exporter": "python",
   "pygments_lexer": "ipython3",
   "version": "3.11.3"
  }
 },
 "nbformat": 4,
 "nbformat_minor": 2
}
