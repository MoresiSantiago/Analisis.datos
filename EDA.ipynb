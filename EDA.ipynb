{
 "cells": [
  {
   "cell_type": "markdown",
   "metadata": {},
   "source": [
    "                                       ANALISIS EXPLORATORIO DE LOS DATOS -- EDA "
   ]
  },
  {
   "cell_type": "code",
   "execution_count": 1,
   "metadata": {},
   "outputs": [],
   "source": [
    "import pandas as pd\n",
    "import numpy as np\n",
    "import matplotlib.pyplot as plt"
   ]
  },
  {
   "cell_type": "markdown",
   "metadata": {},
   "source": [
    "Abre el archivo."
   ]
  },
  {
   "cell_type": "code",
   "execution_count": 3,
   "metadata": {},
   "outputs": [],
   "source": [
    "from powerbiclient import Report, models"
   ]
  },
  {
   "cell_type": "code",
   "execution_count": 4,
   "metadata": {},
   "outputs": [],
   "source": [
    "import warnings\n",
    "\n",
    "# Your code that triggers the warning\n",
    "\n",
    "# Suppress the warning\n",
    "warnings.filterwarnings(\"ignore\", category=UserWarning, module=\"openpyxl.styles.stylesheet\")\n"
   ]
  },
  {
   "cell_type": "code",
   "execution_count": 40,
   "metadata": {},
   "outputs": [],
   "source": [
    "df_internet = pd.read_excel('PenetraciondelInternetfijoporprovinciaaccesosporcada100hogares_2917941698851677186.xlsx')"
   ]
  },
  {
   "cell_type": "markdown",
   "metadata": {},
   "source": [
    "Fijamos la informacion que tiene. "
   ]
  },
  {
   "cell_type": "code",
   "execution_count": 41,
   "metadata": {},
   "outputs": [
    {
     "name": "stdout",
     "output_type": "stream",
     "text": [
      "<class 'pandas.core.frame.DataFrame'>\n",
      "RangeIndex: 864 entries, 0 to 863\n",
      "Data columns (total 4 columns):\n",
      " #   Column                        Non-Null Count  Dtype \n",
      "---  ------                        --------------  ----- \n",
      " 0   Año                           864 non-null    int64 \n",
      " 1   Trimestre                     864 non-null    int64 \n",
      " 2   Provincia                     864 non-null    object\n",
      " 3   Accesos por cada 100 hogares  864 non-null    object\n",
      "dtypes: int64(2), object(2)\n",
      "memory usage: 27.1+ KB\n"
     ]
    }
   ],
   "source": [
    "df_internet.info()"
   ]
  },
  {
   "cell_type": "markdown",
   "metadata": {},
   "source": [
    "- Conclusion: se puede ver que contiene 4 colummnas ( año - trimestre -provinicia - accesos por cada 100 hogares). Y el archivo tiene una dimension de 27.1 KB. "
   ]
  },
  {
   "cell_type": "markdown",
   "metadata": {},
   "source": [
    "Vemos en forma de tabla atraves de pandas."
   ]
  },
  {
   "cell_type": "code",
   "execution_count": 25,
   "metadata": {},
   "outputs": [
    {
     "data": {
      "text/html": [
       "<div>\n",
       "<style scoped>\n",
       "    .dataframe tbody tr th:only-of-type {\n",
       "        vertical-align: middle;\n",
       "    }\n",
       "\n",
       "    .dataframe tbody tr th {\n",
       "        vertical-align: top;\n",
       "    }\n",
       "\n",
       "    .dataframe thead th {\n",
       "        text-align: right;\n",
       "    }\n",
       "</style>\n",
       "<table border=\"1\" class=\"dataframe\">\n",
       "  <thead>\n",
       "    <tr style=\"text-align: right;\">\n",
       "      <th></th>\n",
       "      <th>Año</th>\n",
       "      <th>Trimestre</th>\n",
       "      <th>Provincia</th>\n",
       "      <th>Accesos por cada 100 hogares</th>\n",
       "    </tr>\n",
       "  </thead>\n",
       "  <tbody>\n",
       "    <tr>\n",
       "      <th>0</th>\n",
       "      <td>2022</td>\n",
       "      <td>4</td>\n",
       "      <td>Buenos Aires</td>\n",
       "      <td>78,94</td>\n",
       "    </tr>\n",
       "    <tr>\n",
       "      <th>1</th>\n",
       "      <td>2022</td>\n",
       "      <td>4</td>\n",
       "      <td>Capital Federal</td>\n",
       "      <td>122,73</td>\n",
       "    </tr>\n",
       "    <tr>\n",
       "      <th>2</th>\n",
       "      <td>2022</td>\n",
       "      <td>4</td>\n",
       "      <td>Catamarca</td>\n",
       "      <td>65,77</td>\n",
       "    </tr>\n",
       "    <tr>\n",
       "      <th>3</th>\n",
       "      <td>2022</td>\n",
       "      <td>4</td>\n",
       "      <td>Chaco</td>\n",
       "      <td>43,62</td>\n",
       "    </tr>\n",
       "    <tr>\n",
       "      <th>4</th>\n",
       "      <td>2022</td>\n",
       "      <td>4</td>\n",
       "      <td>Chubut</td>\n",
       "      <td>85,57</td>\n",
       "    </tr>\n",
       "    <tr>\n",
       "      <th>...</th>\n",
       "      <td>...</td>\n",
       "      <td>...</td>\n",
       "      <td>...</td>\n",
       "      <td>...</td>\n",
       "    </tr>\n",
       "    <tr>\n",
       "      <th>859</th>\n",
       "      <td>2014</td>\n",
       "      <td>1</td>\n",
       "      <td>Santa Cruz</td>\n",
       "      <td>28,94</td>\n",
       "    </tr>\n",
       "    <tr>\n",
       "      <th>860</th>\n",
       "      <td>2014</td>\n",
       "      <td>1</td>\n",
       "      <td>Santa Fe</td>\n",
       "      <td>47,85</td>\n",
       "    </tr>\n",
       "    <tr>\n",
       "      <th>861</th>\n",
       "      <td>2014</td>\n",
       "      <td>1</td>\n",
       "      <td>Santiago Del Estero</td>\n",
       "      <td>16,31</td>\n",
       "    </tr>\n",
       "    <tr>\n",
       "      <th>862</th>\n",
       "      <td>2014</td>\n",
       "      <td>1</td>\n",
       "      <td>Tierra Del Fuego</td>\n",
       "      <td>63,97</td>\n",
       "    </tr>\n",
       "    <tr>\n",
       "      <th>863</th>\n",
       "      <td>2014</td>\n",
       "      <td>1</td>\n",
       "      <td>Tucumán</td>\n",
       "      <td>33,42</td>\n",
       "    </tr>\n",
       "  </tbody>\n",
       "</table>\n",
       "<p>864 rows × 4 columns</p>\n",
       "</div>"
      ],
      "text/plain": [
       "      Año  Trimestre            Provincia Accesos por cada 100 hogares\n",
       "0    2022          4         Buenos Aires                        78,94\n",
       "1    2022          4      Capital Federal                       122,73\n",
       "2    2022          4            Catamarca                        65,77\n",
       "3    2022          4                Chaco                        43,62\n",
       "4    2022          4               Chubut                        85,57\n",
       "..    ...        ...                  ...                          ...\n",
       "859  2014          1           Santa Cruz                        28,94\n",
       "860  2014          1             Santa Fe                        47,85\n",
       "861  2014          1  Santiago Del Estero                        16,31\n",
       "862  2014          1     Tierra Del Fuego                        63,97\n",
       "863  2014          1              Tucumán                        33,42\n",
       "\n",
       "[864 rows x 4 columns]"
      ]
     },
     "execution_count": 25,
     "metadata": {},
     "output_type": "execute_result"
    }
   ],
   "source": [
    "df_internet"
   ]
  },
  {
   "cell_type": "markdown",
   "metadata": {},
   "source": [
    "- Conclusion: se puede ver hay 864 registros."
   ]
  },
  {
   "cell_type": "markdown",
   "metadata": {},
   "source": [
    "-----------------------------------------------------------------------------"
   ]
  },
  {
   "cell_type": "markdown",
   "metadata": {},
   "source": [
    "## Datos faltantes"
   ]
  },
  {
   "cell_type": "code",
   "execution_count": 8,
   "metadata": {},
   "outputs": [
    {
     "name": "stdout",
     "output_type": "stream",
     "text": [
      "No hay valores faltantes en el DataFrame.\n",
      "No hay valores faltantes en 'Año'.\n",
      "No hay valores faltantes en 'Trimestre'.\n",
      "No hay valores faltantes en 'Provincia'.\n",
      "No hay valores faltantes en 'Accesos por cada 100 hogares'.\n"
     ]
    }
   ],
   "source": [
    "valores_faltantes_totales = df_internet.isna().any().any()\n",
    "if valores_faltantes_totales:\n",
    "    print(\"Hay valores faltantes en el DataFrame.\")\n",
    "else:\n",
    "    print(\"No hay valores faltantes en el DataFrame.\")\n",
    "\n",
    "# Para verificar si hay valores faltantes en columnas específicas:\n",
    "valores_faltantes_columna1 = df_internet['Año'].isna().any()\n",
    "valores_faltantes_columna2 = df_internet['Trimestre'].isna().any()\n",
    "valores_faltantes_columna3 = df_internet['Provincia'].isna().any()\n",
    "valores_faltantes_columna4 = df_internet['Accesos por cada 100 hogares'].isna().any()\n",
    "\n",
    "if valores_faltantes_columna1:\n",
    "    print(\"Hay valores faltantes en 'Año'.\")\n",
    "else:\n",
    "    print(\"No hay valores faltantes en 'Año'.\")\n",
    "\n",
    "if valores_faltantes_columna2:\n",
    "    print(\"Hay valores faltantes en 'Trimestre'.\")\n",
    "else:\n",
    "    print(\"No hay valores faltantes en 'Trimestre'.\")\n",
    "\n",
    "if valores_faltantes_columna3:\n",
    "    print(\"Hay valores faltantes en 'Provincia'.\")\n",
    "else:\n",
    "    print(\"No hay valores faltantes en 'Provincia'.\")\n",
    "\n",
    "if valores_faltantes_columna4:\n",
    "    print(\"Hay valores faltantes en 'Accesos por cada 100 hogares'.\")\n",
    "else:\n",
    "    print(\"No hay valores faltantes en 'Accesos por cada 100 hogares'.\")"
   ]
  },
  {
   "cell_type": "markdown",
   "metadata": {},
   "source": [
    "- Conclusion: no hay valores faltantes en el DataFrame. "
   ]
  },
  {
   "cell_type": "markdown",
   "metadata": {},
   "source": [
    "---------------------------------"
   ]
  },
  {
   "cell_type": "markdown",
   "metadata": {},
   "source": [
    "## Datos duplicados"
   ]
  },
  {
   "cell_type": "code",
   "execution_count": 9,
   "metadata": {},
   "outputs": [
    {
     "name": "stdout",
     "output_type": "stream",
     "text": [
      "No hay datos duplicados en el DataFrame.\n"
     ]
    }
   ],
   "source": [
    "hay_duplicados = df_internet.duplicated().any()\n",
    "\n",
    "if hay_duplicados:\n",
    "    print(\"Hay datos duplicados en el DataFrame.\")\n",
    "else:\n",
    "    print(\"No hay datos duplicados en el DataFrame.\")"
   ]
  },
  {
   "cell_type": "markdown",
   "metadata": {},
   "source": [
    "- Conclusion: No hay datos duplicados en el DataFrame."
   ]
  },
  {
   "cell_type": "markdown",
   "metadata": {},
   "source": [
    "--------------------------------------------------"
   ]
  },
  {
   "cell_type": "markdown",
   "metadata": {},
   "source": [
    "## Datos atipicos (outlaires)"
   ]
  },
  {
   "cell_type": "code",
   "execution_count": 12,
   "metadata": {},
   "outputs": [],
   "source": [
    "df_internet['Accesos por cada 100 hogares'] = pd.to_numeric(df_internet['Accesos por cada 100 hogares'], errors='coerce')\n"
   ]
  },
  {
   "cell_type": "code",
   "execution_count": 13,
   "metadata": {},
   "outputs": [
    {
     "name": "stdout",
     "output_type": "stream",
     "text": [
      "Valores no numéricos: [nan]\n"
     ]
    }
   ],
   "source": [
    "non_numeric_values = df_internet[~df_internet['Accesos por cada 100 hogares'].apply(lambda x: pd.to_numeric(x, errors='coerce')).notna()]\n",
    "print(\"Valores no numéricos:\", non_numeric_values['Accesos por cada 100 hogares'].unique())\n"
   ]
  },
  {
   "cell_type": "code",
   "execution_count": 14,
   "metadata": {},
   "outputs": [],
   "source": [
    "# Calcular el primer y tercer cuartil\n",
    "Q1 = df_internet['Accesos por cada 100 hogares'].quantile(0.25)\n",
    "Q3 = df_internet['Accesos por cada 100 hogares'].quantile(0.75)\n",
    "\n",
    "# Calcular el rango intercuartílico (IQR)\n",
    "IQR = Q3 - Q1\n"
   ]
  },
  {
   "cell_type": "code",
   "execution_count": 15,
   "metadata": {},
   "outputs": [],
   "source": [
    "\n",
    "# Definir los límites inferior y superior para identificar datos atípicos\n",
    "lower_limit = Q1 - 1.5 * IQR\n",
    "upper_limit = Q3 + 1.5 * IQR\n",
    "\n",
    "# Identificar datos atípicos\n",
    "outliers = df_internet[(df_internet['Accesos por cada 100 hogares'] < lower_limit) | (df_internet['Accesos por cada 100 hogares'] > upper_limit)]"
   ]
  },
  {
   "cell_type": "code",
   "execution_count": 16,
   "metadata": {},
   "outputs": [
    {
     "data": {
      "image/png": "[encoded data removed]",
      "text/plain": [
       "<Figure size 640x480 with 1 Axes>"
      ]
     },
     "metadata": {},
     "output_type": "display_data"
    },
    {
     "name": "stdout",
     "output_type": "stream",
     "text": [
      "Valores atípicos:\n",
      "Empty DataFrame\n",
      "Columns: [Año, Trimestre, Provincia, Accesos por cada 100 hogares]\n",
      "Index: []\n"
     ]
    }
   ],
   "source": [
    "# Visualizar un gráfico de caja\n",
    "plt.boxplot(df_internet['Accesos por cada 100 hogares'])\n",
    "plt.title(\"Gráfico de Caja de Accesos por cada 100 hogares\")\n",
    "plt.show()\n",
    "\n",
    "print(\"Valores atípicos:\")\n",
    "print(outliers)"
   ]
  },
  {
   "cell_type": "markdown",
   "metadata": {},
   "source": [
    "- Conclsuion: no hay datos atipicos. "
   ]
  },
  {
   "cell_type": "markdown",
   "metadata": {},
   "source": [
    "---------"
   ]
  },
  {
   "cell_type": "markdown",
   "metadata": {},
   "source": [
    "Informe final: \n",
    "- NO se encontraron, ni datos faltantes, ni datos duplicados, ni tampoco datos atipicos(outalires).\n",
    "\n",
    "- Se puede interprentar la respuesta de froma cualitativa ya que al no a ver anomalias en todo el **EDA**, se puede deducir que hay una respuesta **Nominal** que es que no hay errores. "
   ]
  },
  {
   "cell_type": "markdown",
   "metadata": {},
   "source": [
    "-------------------------------------------------"
   ]
  },
  {
   "cell_type": "markdown",
   "metadata": {},
   "source": [
    "## Se hace un analisis del ultimo año por cada trimestre."
   ]
  },
  {
   "cell_type": "markdown",
   "metadata": {},
   "source": [
    "Se redondean los numeros para poder generar los graficos."
   ]
  },
  {
   "cell_type": "code",
   "execution_count": 59,
   "metadata": {},
   "outputs": [],
   "source": [
    "# Eliminar las comas y convertir la columna 'Accesos por cada 100 hogares' a números (floats)\n",
    "df_internet['Accesos por cada 100 hogares'] = df_internet['Accesos por cada 100 hogares'].str.replace(',', '.').astype(float)\n",
    "# Redondear la columna 'Accesos por cada 100 hogares' hacia arriba o abajo\n",
    "df_internet['Accesos por cada 100 hogares'] = df_internet['Accesos por cada 100 hogares'].apply(lambda x: round(x))"
   ]
  },
  {
   "cell_type": "markdown",
   "metadata": {},
   "source": [
    "- Primer trimestre del 2022"
   ]
  },
  {
   "cell_type": "markdown",
   "metadata": {},
   "source": [
    "Tabla"
   ]
  },
  {
   "cell_type": "code",
   "execution_count": 60,
   "metadata": {},
   "outputs": [
    {
     "data": {
      "text/html": [
       "<div>\n",
       "<style scoped>\n",
       "    .dataframe tbody tr th:only-of-type {\n",
       "        vertical-align: middle;\n",
       "    }\n",
       "\n",
       "    .dataframe tbody tr th {\n",
       "        vertical-align: top;\n",
       "    }\n",
       "\n",
       "    .dataframe thead th {\n",
       "        text-align: right;\n",
       "    }\n",
       "</style>\n",
       "<table border=\"1\" class=\"dataframe\">\n",
       "  <thead>\n",
       "    <tr style=\"text-align: right;\">\n",
       "      <th></th>\n",
       "      <th>Año</th>\n",
       "      <th>Trimestre</th>\n",
       "      <th>Provincia</th>\n",
       "      <th>Accesos por cada 100 hogares</th>\n",
       "    </tr>\n",
       "  </thead>\n",
       "  <tbody>\n",
       "    <tr>\n",
       "      <th>72</th>\n",
       "      <td>2022</td>\n",
       "      <td>1</td>\n",
       "      <td>Buenos Aires</td>\n",
       "      <td>76</td>\n",
       "    </tr>\n",
       "    <tr>\n",
       "      <th>73</th>\n",
       "      <td>2022</td>\n",
       "      <td>1</td>\n",
       "      <td>Capital Federal</td>\n",
       "      <td>112</td>\n",
       "    </tr>\n",
       "    <tr>\n",
       "      <th>74</th>\n",
       "      <td>2022</td>\n",
       "      <td>1</td>\n",
       "      <td>Catamarca</td>\n",
       "      <td>58</td>\n",
       "    </tr>\n",
       "    <tr>\n",
       "      <th>75</th>\n",
       "      <td>2022</td>\n",
       "      <td>1</td>\n",
       "      <td>Chaco</td>\n",
       "      <td>44</td>\n",
       "    </tr>\n",
       "    <tr>\n",
       "      <th>76</th>\n",
       "      <td>2022</td>\n",
       "      <td>1</td>\n",
       "      <td>Chubut</td>\n",
       "      <td>88</td>\n",
       "    </tr>\n",
       "    <tr>\n",
       "      <th>77</th>\n",
       "      <td>2022</td>\n",
       "      <td>1</td>\n",
       "      <td>Córdoba</td>\n",
       "      <td>86</td>\n",
       "    </tr>\n",
       "    <tr>\n",
       "      <th>78</th>\n",
       "      <td>2022</td>\n",
       "      <td>1</td>\n",
       "      <td>Corrientes</td>\n",
       "      <td>48</td>\n",
       "    </tr>\n",
       "    <tr>\n",
       "      <th>79</th>\n",
       "      <td>2022</td>\n",
       "      <td>1</td>\n",
       "      <td>Entre Ríos</td>\n",
       "      <td>64</td>\n",
       "    </tr>\n",
       "    <tr>\n",
       "      <th>80</th>\n",
       "      <td>2022</td>\n",
       "      <td>1</td>\n",
       "      <td>Formosa</td>\n",
       "      <td>35</td>\n",
       "    </tr>\n",
       "    <tr>\n",
       "      <th>81</th>\n",
       "      <td>2022</td>\n",
       "      <td>1</td>\n",
       "      <td>Jujuy</td>\n",
       "      <td>58</td>\n",
       "    </tr>\n",
       "    <tr>\n",
       "      <th>82</th>\n",
       "      <td>2022</td>\n",
       "      <td>1</td>\n",
       "      <td>La Pampa</td>\n",
       "      <td>92</td>\n",
       "    </tr>\n",
       "    <tr>\n",
       "      <th>83</th>\n",
       "      <td>2022</td>\n",
       "      <td>1</td>\n",
       "      <td>La Rioja</td>\n",
       "      <td>79</td>\n",
       "    </tr>\n",
       "    <tr>\n",
       "      <th>84</th>\n",
       "      <td>2022</td>\n",
       "      <td>1</td>\n",
       "      <td>Mendoza</td>\n",
       "      <td>49</td>\n",
       "    </tr>\n",
       "    <tr>\n",
       "      <th>85</th>\n",
       "      <td>2022</td>\n",
       "      <td>1</td>\n",
       "      <td>Misiones</td>\n",
       "      <td>49</td>\n",
       "    </tr>\n",
       "    <tr>\n",
       "      <th>86</th>\n",
       "      <td>2022</td>\n",
       "      <td>1</td>\n",
       "      <td>Neuquén</td>\n",
       "      <td>74</td>\n",
       "    </tr>\n",
       "    <tr>\n",
       "      <th>87</th>\n",
       "      <td>2022</td>\n",
       "      <td>1</td>\n",
       "      <td>Río Negro</td>\n",
       "      <td>67</td>\n",
       "    </tr>\n",
       "    <tr>\n",
       "      <th>88</th>\n",
       "      <td>2022</td>\n",
       "      <td>1</td>\n",
       "      <td>Salta</td>\n",
       "      <td>56</td>\n",
       "    </tr>\n",
       "    <tr>\n",
       "      <th>89</th>\n",
       "      <td>2022</td>\n",
       "      <td>1</td>\n",
       "      <td>San Juan</td>\n",
       "      <td>44</td>\n",
       "    </tr>\n",
       "    <tr>\n",
       "      <th>90</th>\n",
       "      <td>2022</td>\n",
       "      <td>1</td>\n",
       "      <td>San Luis</td>\n",
       "      <td>81</td>\n",
       "    </tr>\n",
       "    <tr>\n",
       "      <th>91</th>\n",
       "      <td>2022</td>\n",
       "      <td>1</td>\n",
       "      <td>Santa Cruz</td>\n",
       "      <td>43</td>\n",
       "    </tr>\n",
       "    <tr>\n",
       "      <th>92</th>\n",
       "      <td>2022</td>\n",
       "      <td>1</td>\n",
       "      <td>Santa Fe</td>\n",
       "      <td>77</td>\n",
       "    </tr>\n",
       "    <tr>\n",
       "      <th>93</th>\n",
       "      <td>2022</td>\n",
       "      <td>1</td>\n",
       "      <td>Santiago Del Estero</td>\n",
       "      <td>47</td>\n",
       "    </tr>\n",
       "    <tr>\n",
       "      <th>94</th>\n",
       "      <td>2022</td>\n",
       "      <td>1</td>\n",
       "      <td>Tierra Del Fuego</td>\n",
       "      <td>98</td>\n",
       "    </tr>\n",
       "    <tr>\n",
       "      <th>95</th>\n",
       "      <td>2022</td>\n",
       "      <td>1</td>\n",
       "      <td>Tucumán</td>\n",
       "      <td>57</td>\n",
       "    </tr>\n",
       "  </tbody>\n",
       "</table>\n",
       "</div>"
      ],
      "text/plain": [
       "     Año  Trimestre            Provincia  Accesos por cada 100 hogares\n",
       "72  2022          1         Buenos Aires                            76\n",
       "73  2022          1      Capital Federal                           112\n",
       "74  2022          1            Catamarca                            58\n",
       "75  2022          1                Chaco                            44\n",
       "76  2022          1               Chubut                            88\n",
       "77  2022          1              Córdoba                            86\n",
       "78  2022          1           Corrientes                            48\n",
       "79  2022          1           Entre Ríos                            64\n",
       "80  2022          1              Formosa                            35\n",
       "81  2022          1                Jujuy                            58\n",
       "82  2022          1             La Pampa                            92\n",
       "83  2022          1             La Rioja                            79\n",
       "84  2022          1              Mendoza                            49\n",
       "85  2022          1             Misiones                            49\n",
       "86  2022          1              Neuquén                            74\n",
       "87  2022          1            Río Negro                            67\n",
       "88  2022          1                Salta                            56\n",
       "89  2022          1             San Juan                            44\n",
       "90  2022          1             San Luis                            81\n",
       "91  2022          1           Santa Cruz                            43\n",
       "92  2022          1             Santa Fe                            77\n",
       "93  2022          1  Santiago Del Estero                            47\n",
       "94  2022          1     Tierra Del Fuego                            98\n",
       "95  2022          1              Tucumán                            57"
      ]
     },
     "execution_count": 60,
     "metadata": {},
     "output_type": "execute_result"
    }
   ],
   "source": [
    "df_uno= df_internet[(df_internet['Trimestre'] == 1) & (df_internet['Año'] == 2022)]\n",
    "df_uno"
   ]
  },
  {
   "cell_type": "markdown",
   "metadata": {},
   "source": [
    "Grafico"
   ]
  },
  {
   "cell_type": "code",
   "execution_count": 77,
   "metadata": {},
   "outputs": [
    {
     "data": {
      "image/png": "[encoded data removed]",
      "text/plain": [
       "<Figure size 1200x600 with 1 Axes>"
      ]
     },
     "metadata": {},
     "output_type": "display_data"
    }
   ],
   "source": [
    "# Crear un gráfico de barras\n",
    "fig, ax = plt.subplots(figsize=(12, 6))\n",
    "df_uno.plot(kind='bar', x='Provincia', y=['Accesos por cada 100 hogares'], ax=ax)\n",
    "\n",
    "# Configurar el título y las etiquetas de los ejes\n",
    "ax.set_title('1º Trimestre del 2022')\n",
    "ax.set_xlabel('Provincia')\n",
    "ax.set_ylabel('Valor')\n",
    "\n",
    "# Mostrar el gráfico\n",
    "plt.tight_layout()\n",
    "plt.show()"
   ]
  },
  {
   "cell_type": "markdown",
   "metadata": {},
   "source": [
    "- Segundo trimestre del 2022"
   ]
  },
  {
   "cell_type": "markdown",
   "metadata": {},
   "source": [
    "Tabla"
   ]
  },
  {
   "cell_type": "code",
   "execution_count": 65,
   "metadata": {},
   "outputs": [
    {
     "data": {
      "text/html": [
       "<div>\n",
       "<style scoped>\n",
       "    .dataframe tbody tr th:only-of-type {\n",
       "        vertical-align: middle;\n",
       "    }\n",
       "\n",
       "    .dataframe tbody tr th {\n",
       "        vertical-align: top;\n",
       "    }\n",
       "\n",
       "    .dataframe thead th {\n",
       "        text-align: right;\n",
       "    }\n",
       "</style>\n",
       "<table border=\"1\" class=\"dataframe\">\n",
       "  <thead>\n",
       "    <tr style=\"text-align: right;\">\n",
       "      <th></th>\n",
       "      <th>Año</th>\n",
       "      <th>Trimestre</th>\n",
       "      <th>Provincia</th>\n",
       "      <th>Accesos por cada 100 hogares</th>\n",
       "    </tr>\n",
       "  </thead>\n",
       "  <tbody>\n",
       "    <tr>\n",
       "      <th>48</th>\n",
       "      <td>2022</td>\n",
       "      <td>2</td>\n",
       "      <td>Buenos Aires</td>\n",
       "      <td>78</td>\n",
       "    </tr>\n",
       "    <tr>\n",
       "      <th>49</th>\n",
       "      <td>2022</td>\n",
       "      <td>2</td>\n",
       "      <td>Capital Federal</td>\n",
       "      <td>121</td>\n",
       "    </tr>\n",
       "    <tr>\n",
       "      <th>50</th>\n",
       "      <td>2022</td>\n",
       "      <td>2</td>\n",
       "      <td>Catamarca</td>\n",
       "      <td>62</td>\n",
       "    </tr>\n",
       "    <tr>\n",
       "      <th>51</th>\n",
       "      <td>2022</td>\n",
       "      <td>2</td>\n",
       "      <td>Chaco</td>\n",
       "      <td>44</td>\n",
       "    </tr>\n",
       "    <tr>\n",
       "      <th>52</th>\n",
       "      <td>2022</td>\n",
       "      <td>2</td>\n",
       "      <td>Chubut</td>\n",
       "      <td>83</td>\n",
       "    </tr>\n",
       "    <tr>\n",
       "      <th>53</th>\n",
       "      <td>2022</td>\n",
       "      <td>2</td>\n",
       "      <td>Córdoba</td>\n",
       "      <td>87</td>\n",
       "    </tr>\n",
       "    <tr>\n",
       "      <th>54</th>\n",
       "      <td>2022</td>\n",
       "      <td>2</td>\n",
       "      <td>Corrientes</td>\n",
       "      <td>48</td>\n",
       "    </tr>\n",
       "    <tr>\n",
       "      <th>55</th>\n",
       "      <td>2022</td>\n",
       "      <td>2</td>\n",
       "      <td>Entre Ríos</td>\n",
       "      <td>64</td>\n",
       "    </tr>\n",
       "    <tr>\n",
       "      <th>56</th>\n",
       "      <td>2022</td>\n",
       "      <td>2</td>\n",
       "      <td>Formosa</td>\n",
       "      <td>43</td>\n",
       "    </tr>\n",
       "    <tr>\n",
       "      <th>57</th>\n",
       "      <td>2022</td>\n",
       "      <td>2</td>\n",
       "      <td>Jujuy</td>\n",
       "      <td>57</td>\n",
       "    </tr>\n",
       "    <tr>\n",
       "      <th>58</th>\n",
       "      <td>2022</td>\n",
       "      <td>2</td>\n",
       "      <td>La Pampa</td>\n",
       "      <td>93</td>\n",
       "    </tr>\n",
       "    <tr>\n",
       "      <th>59</th>\n",
       "      <td>2022</td>\n",
       "      <td>2</td>\n",
       "      <td>La Rioja</td>\n",
       "      <td>80</td>\n",
       "    </tr>\n",
       "    <tr>\n",
       "      <th>60</th>\n",
       "      <td>2022</td>\n",
       "      <td>2</td>\n",
       "      <td>Mendoza</td>\n",
       "      <td>49</td>\n",
       "    </tr>\n",
       "    <tr>\n",
       "      <th>61</th>\n",
       "      <td>2022</td>\n",
       "      <td>2</td>\n",
       "      <td>Misiones</td>\n",
       "      <td>51</td>\n",
       "    </tr>\n",
       "    <tr>\n",
       "      <th>62</th>\n",
       "      <td>2022</td>\n",
       "      <td>2</td>\n",
       "      <td>Neuquén</td>\n",
       "      <td>80</td>\n",
       "    </tr>\n",
       "    <tr>\n",
       "      <th>63</th>\n",
       "      <td>2022</td>\n",
       "      <td>2</td>\n",
       "      <td>Río Negro</td>\n",
       "      <td>68</td>\n",
       "    </tr>\n",
       "    <tr>\n",
       "      <th>64</th>\n",
       "      <td>2022</td>\n",
       "      <td>2</td>\n",
       "      <td>Salta</td>\n",
       "      <td>58</td>\n",
       "    </tr>\n",
       "    <tr>\n",
       "      <th>65</th>\n",
       "      <td>2022</td>\n",
       "      <td>2</td>\n",
       "      <td>San Juan</td>\n",
       "      <td>49</td>\n",
       "    </tr>\n",
       "    <tr>\n",
       "      <th>66</th>\n",
       "      <td>2022</td>\n",
       "      <td>2</td>\n",
       "      <td>San Luis</td>\n",
       "      <td>82</td>\n",
       "    </tr>\n",
       "    <tr>\n",
       "      <th>67</th>\n",
       "      <td>2022</td>\n",
       "      <td>2</td>\n",
       "      <td>Santa Cruz</td>\n",
       "      <td>43</td>\n",
       "    </tr>\n",
       "    <tr>\n",
       "      <th>68</th>\n",
       "      <td>2022</td>\n",
       "      <td>2</td>\n",
       "      <td>Santa Fe</td>\n",
       "      <td>78</td>\n",
       "    </tr>\n",
       "    <tr>\n",
       "      <th>69</th>\n",
       "      <td>2022</td>\n",
       "      <td>2</td>\n",
       "      <td>Santiago Del Estero</td>\n",
       "      <td>48</td>\n",
       "    </tr>\n",
       "    <tr>\n",
       "      <th>70</th>\n",
       "      <td>2022</td>\n",
       "      <td>2</td>\n",
       "      <td>Tierra Del Fuego</td>\n",
       "      <td>100</td>\n",
       "    </tr>\n",
       "    <tr>\n",
       "      <th>71</th>\n",
       "      <td>2022</td>\n",
       "      <td>2</td>\n",
       "      <td>Tucumán</td>\n",
       "      <td>59</td>\n",
       "    </tr>\n",
       "  </tbody>\n",
       "</table>\n",
       "</div>"
      ],
      "text/plain": [
       "     Año  Trimestre            Provincia  Accesos por cada 100 hogares\n",
       "48  2022          2         Buenos Aires                            78\n",
       "49  2022          2      Capital Federal                           121\n",
       "50  2022          2            Catamarca                            62\n",
       "51  2022          2                Chaco                            44\n",
       "52  2022          2               Chubut                            83\n",
       "53  2022          2              Córdoba                            87\n",
       "54  2022          2           Corrientes                            48\n",
       "55  2022          2           Entre Ríos                            64\n",
       "56  2022          2              Formosa                            43\n",
       "57  2022          2                Jujuy                            57\n",
       "58  2022          2             La Pampa                            93\n",
       "59  2022          2             La Rioja                            80\n",
       "60  2022          2              Mendoza                            49\n",
       "61  2022          2             Misiones                            51\n",
       "62  2022          2              Neuquén                            80\n",
       "63  2022          2            Río Negro                            68\n",
       "64  2022          2                Salta                            58\n",
       "65  2022          2             San Juan                            49\n",
       "66  2022          2             San Luis                            82\n",
       "67  2022          2           Santa Cruz                            43\n",
       "68  2022          2             Santa Fe                            78\n",
       "69  2022          2  Santiago Del Estero                            48\n",
       "70  2022          2     Tierra Del Fuego                           100\n",
       "71  2022          2              Tucumán                            59"
      ]
     },
     "execution_count": 65,
     "metadata": {},
     "output_type": "execute_result"
    }
   ],
   "source": [
    "df_dos = df_internet[(df_internet['Trimestre'] == 2) & (df_internet['Año'] == 2022)]\n",
    "df_dos"
   ]
  },
  {
   "cell_type": "markdown",
   "metadata": {},
   "source": [
    "Grafico"
   ]
  },
  {
   "cell_type": "code",
   "execution_count": 78,
   "metadata": {},
   "outputs": [
    {
     "data": {
      "image/png": "[encoded data removed]",
      "text/plain": [
       "<Figure size 1200x600 with 1 Axes>"
      ]
     },
     "metadata": {},
     "output_type": "display_data"
    }
   ],
   "source": [
    "# Crear un gráfico de barras\n",
    "fig, ax = plt.subplots(figsize=(12, 6))\n",
    "df_dos.plot(kind='bar', x='Provincia', y=['Accesos por cada 100 hogares'], ax=ax)\n",
    "\n",
    "# Configurar el título y las etiquetas de los ejes\n",
    "ax.set_title('2º Trimestre del 2022')\n",
    "ax.set_xlabel('Provincia')\n",
    "ax.set_ylabel('Valor')\n",
    "\n",
    "# Mostrar el gráfico\n",
    "plt.tight_layout()\n",
    "plt.show()"
   ]
  },
  {
   "cell_type": "markdown",
   "metadata": {},
   "source": [
    "- Tercer trimestre del 2022"
   ]
  },
  {
   "cell_type": "markdown",
   "metadata": {},
   "source": [
    "Tabla"
   ]
  },
  {
   "cell_type": "code",
   "execution_count": 68,
   "metadata": {},
   "outputs": [
    {
     "data": {
      "text/html": [
       "<div>\n",
       "<style scoped>\n",
       "    .dataframe tbody tr th:only-of-type {\n",
       "        vertical-align: middle;\n",
       "    }\n",
       "\n",
       "    .dataframe tbody tr th {\n",
       "        vertical-align: top;\n",
       "    }\n",
       "\n",
       "    .dataframe thead th {\n",
       "        text-align: right;\n",
       "    }\n",
       "</style>\n",
       "<table border=\"1\" class=\"dataframe\">\n",
       "  <thead>\n",
       "    <tr style=\"text-align: right;\">\n",
       "      <th></th>\n",
       "      <th>Año</th>\n",
       "      <th>Trimestre</th>\n",
       "      <th>Provincia</th>\n",
       "      <th>Accesos por cada 100 hogares</th>\n",
       "    </tr>\n",
       "  </thead>\n",
       "  <tbody>\n",
       "    <tr>\n",
       "      <th>24</th>\n",
       "      <td>2022</td>\n",
       "      <td>3</td>\n",
       "      <td>Buenos Aires</td>\n",
       "      <td>78</td>\n",
       "    </tr>\n",
       "    <tr>\n",
       "      <th>25</th>\n",
       "      <td>2022</td>\n",
       "      <td>3</td>\n",
       "      <td>Capital Federal</td>\n",
       "      <td>122</td>\n",
       "    </tr>\n",
       "    <tr>\n",
       "      <th>26</th>\n",
       "      <td>2022</td>\n",
       "      <td>3</td>\n",
       "      <td>Catamarca</td>\n",
       "      <td>65</td>\n",
       "    </tr>\n",
       "    <tr>\n",
       "      <th>27</th>\n",
       "      <td>2022</td>\n",
       "      <td>3</td>\n",
       "      <td>Chaco</td>\n",
       "      <td>44</td>\n",
       "    </tr>\n",
       "    <tr>\n",
       "      <th>28</th>\n",
       "      <td>2022</td>\n",
       "      <td>3</td>\n",
       "      <td>Chubut</td>\n",
       "      <td>84</td>\n",
       "    </tr>\n",
       "    <tr>\n",
       "      <th>29</th>\n",
       "      <td>2022</td>\n",
       "      <td>3</td>\n",
       "      <td>Córdoba</td>\n",
       "      <td>88</td>\n",
       "    </tr>\n",
       "    <tr>\n",
       "      <th>30</th>\n",
       "      <td>2022</td>\n",
       "      <td>3</td>\n",
       "      <td>Corrientes</td>\n",
       "      <td>48</td>\n",
       "    </tr>\n",
       "    <tr>\n",
       "      <th>31</th>\n",
       "      <td>2022</td>\n",
       "      <td>3</td>\n",
       "      <td>Entre Ríos</td>\n",
       "      <td>64</td>\n",
       "    </tr>\n",
       "    <tr>\n",
       "      <th>32</th>\n",
       "      <td>2022</td>\n",
       "      <td>3</td>\n",
       "      <td>Formosa</td>\n",
       "      <td>44</td>\n",
       "    </tr>\n",
       "    <tr>\n",
       "      <th>33</th>\n",
       "      <td>2022</td>\n",
       "      <td>3</td>\n",
       "      <td>Jujuy</td>\n",
       "      <td>59</td>\n",
       "    </tr>\n",
       "    <tr>\n",
       "      <th>34</th>\n",
       "      <td>2022</td>\n",
       "      <td>3</td>\n",
       "      <td>La Pampa</td>\n",
       "      <td>97</td>\n",
       "    </tr>\n",
       "    <tr>\n",
       "      <th>35</th>\n",
       "      <td>2022</td>\n",
       "      <td>3</td>\n",
       "      <td>La Rioja</td>\n",
       "      <td>81</td>\n",
       "    </tr>\n",
       "    <tr>\n",
       "      <th>36</th>\n",
       "      <td>2022</td>\n",
       "      <td>3</td>\n",
       "      <td>Mendoza</td>\n",
       "      <td>51</td>\n",
       "    </tr>\n",
       "    <tr>\n",
       "      <th>37</th>\n",
       "      <td>2022</td>\n",
       "      <td>3</td>\n",
       "      <td>Misiones</td>\n",
       "      <td>52</td>\n",
       "    </tr>\n",
       "    <tr>\n",
       "      <th>38</th>\n",
       "      <td>2022</td>\n",
       "      <td>3</td>\n",
       "      <td>Neuquén</td>\n",
       "      <td>80</td>\n",
       "    </tr>\n",
       "    <tr>\n",
       "      <th>39</th>\n",
       "      <td>2022</td>\n",
       "      <td>3</td>\n",
       "      <td>Río Negro</td>\n",
       "      <td>68</td>\n",
       "    </tr>\n",
       "    <tr>\n",
       "      <th>40</th>\n",
       "      <td>2022</td>\n",
       "      <td>3</td>\n",
       "      <td>Salta</td>\n",
       "      <td>58</td>\n",
       "    </tr>\n",
       "    <tr>\n",
       "      <th>41</th>\n",
       "      <td>2022</td>\n",
       "      <td>3</td>\n",
       "      <td>San Juan</td>\n",
       "      <td>51</td>\n",
       "    </tr>\n",
       "    <tr>\n",
       "      <th>42</th>\n",
       "      <td>2022</td>\n",
       "      <td>3</td>\n",
       "      <td>San Luis</td>\n",
       "      <td>82</td>\n",
       "    </tr>\n",
       "    <tr>\n",
       "      <th>43</th>\n",
       "      <td>2022</td>\n",
       "      <td>3</td>\n",
       "      <td>Santa Cruz</td>\n",
       "      <td>43</td>\n",
       "    </tr>\n",
       "    <tr>\n",
       "      <th>44</th>\n",
       "      <td>2022</td>\n",
       "      <td>3</td>\n",
       "      <td>Santa Fe</td>\n",
       "      <td>79</td>\n",
       "    </tr>\n",
       "    <tr>\n",
       "      <th>45</th>\n",
       "      <td>2022</td>\n",
       "      <td>3</td>\n",
       "      <td>Santiago Del Estero</td>\n",
       "      <td>48</td>\n",
       "    </tr>\n",
       "    <tr>\n",
       "      <th>46</th>\n",
       "      <td>2022</td>\n",
       "      <td>3</td>\n",
       "      <td>Tierra Del Fuego</td>\n",
       "      <td>100</td>\n",
       "    </tr>\n",
       "    <tr>\n",
       "      <th>47</th>\n",
       "      <td>2022</td>\n",
       "      <td>3</td>\n",
       "      <td>Tucumán</td>\n",
       "      <td>61</td>\n",
       "    </tr>\n",
       "  </tbody>\n",
       "</table>\n",
       "</div>"
      ],
      "text/plain": [
       "     Año  Trimestre            Provincia  Accesos por cada 100 hogares\n",
       "24  2022          3         Buenos Aires                            78\n",
       "25  2022          3      Capital Federal                           122\n",
       "26  2022          3            Catamarca                            65\n",
       "27  2022          3                Chaco                            44\n",
       "28  2022          3               Chubut                            84\n",
       "29  2022          3              Córdoba                            88\n",
       "30  2022          3           Corrientes                            48\n",
       "31  2022          3           Entre Ríos                            64\n",
       "32  2022          3              Formosa                            44\n",
       "33  2022          3                Jujuy                            59\n",
       "34  2022          3             La Pampa                            97\n",
       "35  2022          3             La Rioja                            81\n",
       "36  2022          3              Mendoza                            51\n",
       "37  2022          3             Misiones                            52\n",
       "38  2022          3              Neuquén                            80\n",
       "39  2022          3            Río Negro                            68\n",
       "40  2022          3                Salta                            58\n",
       "41  2022          3             San Juan                            51\n",
       "42  2022          3             San Luis                            82\n",
       "43  2022          3           Santa Cruz                            43\n",
       "44  2022          3             Santa Fe                            79\n",
       "45  2022          3  Santiago Del Estero                            48\n",
       "46  2022          3     Tierra Del Fuego                           100\n",
       "47  2022          3              Tucumán                            61"
      ]
     },
     "execution_count": 68,
     "metadata": {},
     "output_type": "execute_result"
    }
   ],
   "source": [
    "df_tres = df_internet[(df_internet['Trimestre'] == 3) & (df_internet['Año'] == 2022)]\n",
    "df_tres"
   ]
  },
  {
   "cell_type": "markdown",
   "metadata": {},
   "source": [
    "Grafico"
   ]
  },
  {
   "cell_type": "code",
   "execution_count": 79,
   "metadata": {},
   "outputs": [
    {
     "data": {
      "image/png": "[encoded data removed]",
      "text/plain": [
       "<Figure size 1200x600 with 1 Axes>"
      ]
     },
     "metadata": {},
     "output_type": "display_data"
    }
   ],
   "source": [
    "# Crear un gráfico de barras\n",
    "fig, ax = plt.subplots(figsize=(12, 6))\n",
    "df_tres.plot(kind='bar', x='Provincia', y=['Accesos por cada 100 hogares'], ax=ax)\n",
    "\n",
    "# Configurar el título y las etiquetas de los ejes\n",
    "ax.set_title('3º Trimestre del 2022')\n",
    "ax.set_xlabel('Provincia')\n",
    "ax.set_ylabel('Valor')\n",
    "\n",
    "# Mostrar el gráfico\n",
    "plt.tight_layout()\n",
    "plt.show()"
   ]
  },
  {
   "cell_type": "markdown",
   "metadata": {},
   "source": [
    "- Cuarto trimestre del 2022"
   ]
  },
  {
   "cell_type": "markdown",
   "metadata": {},
   "source": [
    "Tabla"
   ]
  },
  {
   "cell_type": "code",
   "execution_count": 71,
   "metadata": {},
   "outputs": [
    {
     "data": {
      "text/html": [
       "<div>\n",
       "<style scoped>\n",
       "    .dataframe tbody tr th:only-of-type {\n",
       "        vertical-align: middle;\n",
       "    }\n",
       "\n",
       "    .dataframe tbody tr th {\n",
       "        vertical-align: top;\n",
       "    }\n",
       "\n",
       "    .dataframe thead th {\n",
       "        text-align: right;\n",
       "    }\n",
       "</style>\n",
       "<table border=\"1\" class=\"dataframe\">\n",
       "  <thead>\n",
       "    <tr style=\"text-align: right;\">\n",
       "      <th></th>\n",
       "      <th>Año</th>\n",
       "      <th>Trimestre</th>\n",
       "      <th>Provincia</th>\n",
       "      <th>Accesos por cada 100 hogares</th>\n",
       "    </tr>\n",
       "  </thead>\n",
       "  <tbody>\n",
       "    <tr>\n",
       "      <th>0</th>\n",
       "      <td>2022</td>\n",
       "      <td>4</td>\n",
       "      <td>Buenos Aires</td>\n",
       "      <td>79</td>\n",
       "    </tr>\n",
       "    <tr>\n",
       "      <th>1</th>\n",
       "      <td>2022</td>\n",
       "      <td>4</td>\n",
       "      <td>Capital Federal</td>\n",
       "      <td>123</td>\n",
       "    </tr>\n",
       "    <tr>\n",
       "      <th>2</th>\n",
       "      <td>2022</td>\n",
       "      <td>4</td>\n",
       "      <td>Catamarca</td>\n",
       "      <td>66</td>\n",
       "    </tr>\n",
       "    <tr>\n",
       "      <th>3</th>\n",
       "      <td>2022</td>\n",
       "      <td>4</td>\n",
       "      <td>Chaco</td>\n",
       "      <td>44</td>\n",
       "    </tr>\n",
       "    <tr>\n",
       "      <th>4</th>\n",
       "      <td>2022</td>\n",
       "      <td>4</td>\n",
       "      <td>Chubut</td>\n",
       "      <td>86</td>\n",
       "    </tr>\n",
       "    <tr>\n",
       "      <th>5</th>\n",
       "      <td>2022</td>\n",
       "      <td>4</td>\n",
       "      <td>Córdoba</td>\n",
       "      <td>89</td>\n",
       "    </tr>\n",
       "    <tr>\n",
       "      <th>6</th>\n",
       "      <td>2022</td>\n",
       "      <td>4</td>\n",
       "      <td>Corrientes</td>\n",
       "      <td>52</td>\n",
       "    </tr>\n",
       "    <tr>\n",
       "      <th>7</th>\n",
       "      <td>2022</td>\n",
       "      <td>4</td>\n",
       "      <td>Entre Ríos</td>\n",
       "      <td>64</td>\n",
       "    </tr>\n",
       "    <tr>\n",
       "      <th>8</th>\n",
       "      <td>2022</td>\n",
       "      <td>4</td>\n",
       "      <td>Formosa</td>\n",
       "      <td>39</td>\n",
       "    </tr>\n",
       "    <tr>\n",
       "      <th>9</th>\n",
       "      <td>2022</td>\n",
       "      <td>4</td>\n",
       "      <td>Jujuy</td>\n",
       "      <td>58</td>\n",
       "    </tr>\n",
       "    <tr>\n",
       "      <th>10</th>\n",
       "      <td>2022</td>\n",
       "      <td>4</td>\n",
       "      <td>La Pampa</td>\n",
       "      <td>95</td>\n",
       "    </tr>\n",
       "    <tr>\n",
       "      <th>11</th>\n",
       "      <td>2022</td>\n",
       "      <td>4</td>\n",
       "      <td>La Rioja</td>\n",
       "      <td>80</td>\n",
       "    </tr>\n",
       "    <tr>\n",
       "      <th>12</th>\n",
       "      <td>2022</td>\n",
       "      <td>4</td>\n",
       "      <td>Mendoza</td>\n",
       "      <td>51</td>\n",
       "    </tr>\n",
       "    <tr>\n",
       "      <th>13</th>\n",
       "      <td>2022</td>\n",
       "      <td>4</td>\n",
       "      <td>Misiones</td>\n",
       "      <td>53</td>\n",
       "    </tr>\n",
       "    <tr>\n",
       "      <th>14</th>\n",
       "      <td>2022</td>\n",
       "      <td>4</td>\n",
       "      <td>Neuquén</td>\n",
       "      <td>79</td>\n",
       "    </tr>\n",
       "    <tr>\n",
       "      <th>15</th>\n",
       "      <td>2022</td>\n",
       "      <td>4</td>\n",
       "      <td>Río Negro</td>\n",
       "      <td>68</td>\n",
       "    </tr>\n",
       "    <tr>\n",
       "      <th>16</th>\n",
       "      <td>2022</td>\n",
       "      <td>4</td>\n",
       "      <td>Salta</td>\n",
       "      <td>58</td>\n",
       "    </tr>\n",
       "    <tr>\n",
       "      <th>17</th>\n",
       "      <td>2022</td>\n",
       "      <td>4</td>\n",
       "      <td>San Juan</td>\n",
       "      <td>51</td>\n",
       "    </tr>\n",
       "    <tr>\n",
       "      <th>18</th>\n",
       "      <td>2022</td>\n",
       "      <td>4</td>\n",
       "      <td>San Luis</td>\n",
       "      <td>90</td>\n",
       "    </tr>\n",
       "    <tr>\n",
       "      <th>19</th>\n",
       "      <td>2022</td>\n",
       "      <td>4</td>\n",
       "      <td>Santa Cruz</td>\n",
       "      <td>44</td>\n",
       "    </tr>\n",
       "    <tr>\n",
       "      <th>20</th>\n",
       "      <td>2022</td>\n",
       "      <td>4</td>\n",
       "      <td>Santa Fe</td>\n",
       "      <td>78</td>\n",
       "    </tr>\n",
       "    <tr>\n",
       "      <th>21</th>\n",
       "      <td>2022</td>\n",
       "      <td>4</td>\n",
       "      <td>Santiago Del Estero</td>\n",
       "      <td>48</td>\n",
       "    </tr>\n",
       "    <tr>\n",
       "      <th>22</th>\n",
       "      <td>2022</td>\n",
       "      <td>4</td>\n",
       "      <td>Tierra Del Fuego</td>\n",
       "      <td>101</td>\n",
       "    </tr>\n",
       "    <tr>\n",
       "      <th>23</th>\n",
       "      <td>2022</td>\n",
       "      <td>4</td>\n",
       "      <td>Tucumán</td>\n",
       "      <td>61</td>\n",
       "    </tr>\n",
       "  </tbody>\n",
       "</table>\n",
       "</div>"
      ],
      "text/plain": [
       "     Año  Trimestre            Provincia  Accesos por cada 100 hogares\n",
       "0   2022          4         Buenos Aires                            79\n",
       "1   2022          4      Capital Federal                           123\n",
       "2   2022          4            Catamarca                            66\n",
       "3   2022          4                Chaco                            44\n",
       "4   2022          4               Chubut                            86\n",
       "5   2022          4              Córdoba                            89\n",
       "6   2022          4           Corrientes                            52\n",
       "7   2022          4           Entre Ríos                            64\n",
       "8   2022          4              Formosa                            39\n",
       "9   2022          4                Jujuy                            58\n",
       "10  2022          4             La Pampa                            95\n",
       "11  2022          4             La Rioja                            80\n",
       "12  2022          4              Mendoza                            51\n",
       "13  2022          4             Misiones                            53\n",
       "14  2022          4              Neuquén                            79\n",
       "15  2022          4            Río Negro                            68\n",
       "16  2022          4                Salta                            58\n",
       "17  2022          4             San Juan                            51\n",
       "18  2022          4             San Luis                            90\n",
       "19  2022          4           Santa Cruz                            44\n",
       "20  2022          4             Santa Fe                            78\n",
       "21  2022          4  Santiago Del Estero                            48\n",
       "22  2022          4     Tierra Del Fuego                           101\n",
       "23  2022          4              Tucumán                            61"
      ]
     },
     "execution_count": 71,
     "metadata": {},
     "output_type": "execute_result"
    }
   ],
   "source": [
    "df_cuatro = df_internet[(df_internet['Trimestre'] == 4) & (df_internet['Año'] == 2022)]\n",
    "df_cuatro"
   ]
  },
  {
   "cell_type": "markdown",
   "metadata": {},
   "source": [
    "Grafico"
   ]
  },
  {
   "cell_type": "code",
   "execution_count": 80,
   "metadata": {},
   "outputs": [
    {
     "data": {
      "image/png": "[encoded data removed]",
      "text/plain": [
       "<Figure size 1200x600 with 1 Axes>"
      ]
     },
     "metadata": {},
     "output_type": "display_data"
    }
   ],
   "source": [
    "# Crear un gráfico de barras\n",
    "fig, ax = plt.subplots(figsize=(12, 6))\n",
    "df_cuatro.plot(kind='bar', x='Provincia', y=['Accesos por cada 100 hogares'], ax=ax)\n",
    "\n",
    "# Configurar el título y las etiquetas de los ejes\n",
    "ax.set_title('4º Trimestre del 2022')\n",
    "ax.set_xlabel('Provincia')\n",
    "ax.set_ylabel('Valor')\n",
    "\n",
    "# Mostrar el gráfico\n",
    "plt.tight_layout()\n",
    "plt.show()"
   ]
  },
  {
   "cell_type": "markdown",
   "metadata": {},
   "source": [
    "-----------------------------------------------"
   ]
  },
  {
   "cell_type": "markdown",
   "metadata": {},
   "source": [
    "\n",
    "- Conclusión: Al analizar las tablas y gráficos, se observa que las provincias con un acceso más destacado a Internet son Capital Federal (CABA) y Tierra Del Fuego. En contraste, se identifica que Formosa y Santiago Del Estero presentan un acceso relativamente menor."
   ]
  }
 ],
 "metadata": {
  "kernelspec": {
   "display_name": "Python 3",
   "language": "python",
   "name": "python3"
  },
  "language_info": {
   "codemirror_mode": {
    "name": "ipython",
    "version": 3
   },
   "file_extension": ".py",
   "mimetype": "text/x-python",
   "name": "python",
   "nbconvert_exporter": "python",
   "pygments_lexer": "ipython3",
   "version": "3.11.3"
  }
 },
 "nbformat": 4,
 "nbformat_minor": 2
}
